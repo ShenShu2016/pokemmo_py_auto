{
 "cells": [
  {
   "cell_type": "code",
   "execution_count": 1,
   "metadata": {},
   "outputs": [
    {
     "name": "stdout",
     "output_type": "stream",
     "text": [
      "pygame 2.4.0 (SDL 2.26.4, Python 3.11.3)\n",
      "Hello from the pygame community. https://www.pygame.org/contribute.html\n"
     ]
    }
   ],
   "source": [
    "from main import PokeMMO"
   ]
  },
  {
   "cell_type": "code",
   "execution_count": 2,
   "metadata": {},
   "outputs": [
    {
     "name": "stdout",
     "output_type": "stream",
     "text": [
      "window name: РokеМMO\n",
      "Loaded 41 assets.\n",
      "Number of matches: 0\n",
      "Match coords with percentage:\n"
     ]
    }
   ],
   "source": [
    "pokemmo=PokeMMO(dev_mode=True)\n",
    "bag_arrow_page = pokemmo.find_items(\n",
    "                temp_BRG=pokemmo.bag_arrow_page_BRG,\n",
    "                top_l=(426, 336),\n",
    "                threshold=0.98,\n",
    "                bottom_r=(527, 510),\n",
    "                display=True,\n",
    "                max_matches=1,\n",
    "            )"
   ]
  },
  {
   "cell_type": "code",
   "execution_count": 6,
   "metadata": {},
   "outputs": [
    {
     "name": "stdout",
     "output_type": "stream",
     "text": [
      "window name: PokeMМO\n",
      "Loaded pokedex_csv from asserts/clean_pokedex.csv\n",
      "Loaded bag_arrow_page_BRG from asserts/template\\bag_arrow_page.png\n",
      "Loaded battle_bar_sleep_sign_BRG from asserts/template\\battle_bar_sleep_sign.png\n",
      "Loaded battle_in_progress_BRG from asserts/template\\battle_in_progress.png\n",
      "Loaded battle_option_BRG from asserts/template\\battle_option.png\n",
      "Loaded confirm_release_BRG from asserts/template\\confirm_release.png\n",
      "Loaded dark_ball_BRG from asserts/template\\dark_ball.png\n",
      "Loaded enemy_female_BRG from asserts/template\\enemy_female.png\n",
      "Loaded enemy_male_BRG from asserts/template\\enemy_male.png\n",
      "Loaded great_ball_BRG from asserts/template\\great_ball.png\n",
      "Loaded hp_BRG from asserts/template\\hp.png\n",
      "Loaded iv_31_BRG from asserts/template\\iv_31.png\n",
      "Loaded mail_box_word_BRG from asserts/template\\mail_box_word.png\n",
      "Loaded master_ball_BRG from asserts/template\\master_ball.png\n",
      "Loaded nest_ball_BRG from asserts/template\\nest_ball.png\n",
      "Loaded no_132_BRG from asserts/template\\no_132.png\n",
      "Loaded pokemon_summary_BRG from asserts/template\\pokemon_summary.png\n",
      "Loaded poke_ball_BRG from asserts/template\\poke_ball.png\n",
      "Loaded poke_ball_page_BRG from asserts/template\\poke_ball_page.png\n",
      "Loaded repeat_ball_BRG from asserts/template\\repeat_ball.png\n",
      "Loaded secret_shiny_BRG from asserts/template\\secret_shiny.png\n",
      "Loaded send_email_BRG from asserts/template\\send_email.png\n",
      "Loaded shiny_BRG from asserts/template\\shiny.png\n",
      "Loaded sprite_iv_page_BRG from asserts/template\\sprite_iv_page.png\n",
      "Loaded ultra_ball_BRG from asserts/template\\ultra_ball.png\n",
      "Loaded Accumula_Town_Field_coords_tracking_csv from asserts/coords_tracking\\Accumula_Town_Field_coords_tracking.csv\n",
      "Loaded BATTLE_FRONTIER_coords_tracking_csv from asserts/coords_tracking\\BATTLE_FRONTIER_coords_tracking.csv\n",
      "Loaded Cerulean_City_coords_tracking_csv from asserts/coords_tracking\\Cerulean_City_coords_tracking.csv\n",
      "Loaded FALLARBOR_TOWN_coords_tracking_csv from asserts/coords_tracking\\FALLARBOR_TOWN_coords_tracking.csv\n",
      "Loaded Fallarbor_Town_Ditto_coords_tracking_csv from asserts/coords_tracking\\Fallarbor_Town_Ditto_coords_tracking.csv\n",
      "Loaded Fuchsia_City_coords_tracking_csv from asserts/coords_tracking\\Fuchsia_City_coords_tracking.csv\n",
      "Loaded Hoenn_PC_coords_tracking_csv from asserts/coords_tracking\\Hoenn_PC_coords_tracking.csv\n",
      "Loaded Kanto_PC_coords_tracking_csv from asserts/coords_tracking\\Kanto_PC_coords_tracking.csv\n",
      "Loaded Lacunosa_Town_Speed_coords_tracking_csv from asserts/coords_tracking\\Lacunosa_Town_Speed_coords_tracking.csv\n",
      "Loaded Mistralton_City_coords_tracking_csv from asserts/coords_tracking\\Mistralton_City_coords_tracking.csv\n",
      "Loaded Opelucid_City_coords_tracking_csv from asserts/coords_tracking\\Opelucid_City_coords_tracking.csv\n",
      "Loaded Opelucid_City_Sp_Attack_coords_tracking_csv from asserts/coords_tracking\\Opelucid_City_Sp_Attack_coords_tracking.csv\n",
      "Loaded PETALBURG_CITY_coords_tracking_csv from asserts/coords_tracking\\PETALBURG_CITY_coords_tracking.csv\n",
      "Loaded SOOTOPOLIS_CITY_coords_tracking_csv from asserts/coords_tracking\\SOOTOPOLIS_CITY_coords_tracking.csv\n",
      "Loaded Unova_PC_coords_tracking_csv from asserts/coords_tracking\\Unova_PC_coords_tracking.csv\n",
      "Loaded VERDANTURF_TOWN_coords_tracking_csv from asserts/coords_tracking\\VERDANTURF_TOWN_coords_tracking.csv\n",
      "Loaded 41 assets.\n",
      "(582, 326, 597, 337)\n",
      "(582, 358, 597, 369)\n",
      "(582, 390, 597, 401)\n",
      "(582, 454, 597, 465)\n",
      "(582, 486, 597, 497)\n",
      "Number of matches: 5\n",
      "Match coords with percentage:\n",
      "Coords: (582, 326, 597, 337), Similarity: 100.00%\n",
      "Coords: (582, 358, 597, 369), Similarity: 100.00%\n",
      "Coords: (582, 390, 597, 401), Similarity: 100.00%\n",
      "Coords: (582, 454, 597, 465), Similarity: 100.00%\n",
      "Coords: (582, 486, 597, 497), Similarity: 100.00%\n"
     ]
    }
   ],
   "source": [
    "pokemmo=PokeMMO(dev_mode=True)\n",
    "bag_arrow_page = pokemmo.find_items(\n",
    "                temp_BRG=pokemmo.iv_31_BRG,\n",
    "                #top_l=(426, 336),\n",
    "                threshold=0.98,\n",
    "                #bottom_r=(527, 510),\n",
    "                display=True,\n",
    "                max_matches=100,\n",
    "            )"
   ]
  },
  {
   "cell_type": "code",
   "execution_count": 3,
   "metadata": {},
   "outputs": [
    {
     "name": "stdout",
     "output_type": "stream",
     "text": [
      "window name: PokеMМO\n",
      "Loaded pokedex_csv from asserts/clean_pokedex.csv\n",
      "Loaded bag_arrow_page_BRG from asserts/template\\bag_arrow_page.png\n",
      "Loaded battle_bar_sleep_sign_BRG from asserts/template\\battle_bar_sleep_sign.png\n",
      "Loaded battle_in_progress_BRG from asserts/template\\battle_in_progress.png\n",
      "Loaded battle_option_BRG from asserts/template\\battle_option.png\n",
      "Loaded confirm_release_BRG from asserts/template\\confirm_release.png\n",
      "Loaded dark_ball_BRG from asserts/template\\dark_ball.png\n",
      "Loaded enemy_female_BRG from asserts/template\\enemy_female.png\n",
      "Loaded enemy_male_BRG from asserts/template\\enemy_male.png\n",
      "Loaded great_ball_BRG from asserts/template\\great_ball.png\n",
      "Loaded hp_BRG from asserts/template\\hp.png\n",
      "Loaded iv_31_BRG from asserts/template\\iv_31.png\n",
      "Loaded mail_box_word_BRG from asserts/template\\mail_box_word.png\n",
      "Loaded master_ball_BRG from asserts/template\\master_ball.png\n",
      "Loaded nest_ball_BRG from asserts/template\\nest_ball.png\n",
      "Loaded no_132_BRG from asserts/template\\no_132.png\n",
      "Loaded pokemon_summary_BRG from asserts/template\\pokemon_summary.png\n",
      "Loaded poke_ball_BRG from asserts/template\\poke_ball.png\n",
      "Loaded poke_ball_page_BRG from asserts/template\\poke_ball_page.png\n",
      "Loaded repeat_ball_BRG from asserts/template\\repeat_ball.png\n",
      "Loaded secret_shiny_BRG from asserts/template\\secret_shiny.png\n",
      "Loaded send_email_BRG from asserts/template\\send_email.png\n",
      "Loaded shiny_BRG from asserts/template\\shiny.png\n",
      "Loaded sprite_iv_page_BRG from asserts/template\\sprite_iv_page.png\n",
      "Loaded ultra_ball_BRG from asserts/template\\ultra_ball.png\n",
      "Loaded Accumula_Town_Field_coords_tracking_csv from asserts/coords_tracking\\Accumula_Town_Field_coords_tracking.csv\n",
      "Loaded BATTLE_FRONTIER_coords_tracking_csv from asserts/coords_tracking\\BATTLE_FRONTIER_coords_tracking.csv\n",
      "Loaded Cerulean_City_coords_tracking_csv from asserts/coords_tracking\\Cerulean_City_coords_tracking.csv\n",
      "Loaded FALLARBOR_TOWN_coords_tracking_csv from asserts/coords_tracking\\FALLARBOR_TOWN_coords_tracking.csv\n",
      "Loaded Fallarbor_Town_Ditto_coords_tracking_csv from asserts/coords_tracking\\Fallarbor_Town_Ditto_coords_tracking.csv\n",
      "Loaded Fuchsia_City_coords_tracking_csv from asserts/coords_tracking\\Fuchsia_City_coords_tracking.csv\n",
      "Loaded Hoenn_PC_coords_tracking_csv from asserts/coords_tracking\\Hoenn_PC_coords_tracking.csv\n",
      "Loaded Kanto_PC_coords_tracking_csv from asserts/coords_tracking\\Kanto_PC_coords_tracking.csv\n",
      "Loaded Lacunosa_Town_Speed_coords_tracking_csv from asserts/coords_tracking\\Lacunosa_Town_Speed_coords_tracking.csv\n",
      "Loaded Mistralton_City_coords_tracking_csv from asserts/coords_tracking\\Mistralton_City_coords_tracking.csv\n",
      "Loaded Opelucid_City_coords_tracking_csv from asserts/coords_tracking\\Opelucid_City_coords_tracking.csv\n",
      "Loaded Opelucid_City_Sp_Attack_coords_tracking_csv from asserts/coords_tracking\\Opelucid_City_Sp_Attack_coords_tracking.csv\n",
      "Loaded PETALBURG_CITY_coords_tracking_csv from asserts/coords_tracking\\PETALBURG_CITY_coords_tracking.csv\n",
      "Loaded SOOTOPOLIS_CITY_coords_tracking_csv from asserts/coords_tracking\\SOOTOPOLIS_CITY_coords_tracking.csv\n",
      "Loaded Unova_PC_coords_tracking_csv from asserts/coords_tracking\\Unova_PC_coords_tracking.csv\n",
      "Loaded VERDANTURF_TOWN_coords_tracking_csv from asserts/coords_tracking\\VERDANTURF_TOWN_coords_tracking.csv\n",
      "Loaded 41 assets.\n",
      "(511, 490, 540, 507)\n",
      "Number of matches: 1\n",
      "Match coords with percentage:\n",
      "Coords: (511, 490, 540, 507), Similarity: 100.00%\n"
     ]
    }
   ],
   "source": [
    "pokemmo=PokeMMO(dev_mode=True)        \n",
    "battle_option_ready_coords_list = pokemmo.find_items(\n",
    "            #img_BRG=self.img_BRG,\n",
    "            #top_l=(504, 488),\n",
    "            bottom_r=(547, 508),\n",
    "            temp_BRG=pokemmo.battle_option_BRG,\n",
    "            threshold=0.99,\n",
    "            max_matches=5,\n",
    "            display=True,\n",
    "        )"
   ]
  },
  {
   "cell_type": "code",
   "execution_count": 2,
   "metadata": {},
   "outputs": [
    {
     "name": "stdout",
     "output_type": "stream",
     "text": [
      "window name: РokеМMO\n",
      "Loaded 42 assets.\n",
      "(284, 131, 307, 145)\n",
      "Number of matches: 1\n",
      "Match coords with percentage:\n",
      "Coords: (284, 131, 307, 145), Similarity: 100.00%\n"
     ]
    }
   ],
   "source": [
    "from main import PokeMMO\n",
    "pokemmo=PokeMMO(dev_mode=True)        \n",
    "battle_option_ready_coords_list = pokemmo.find_items(\n",
    "            #img_BRG=self.img_BRG,\n",
    "            #top_l=(504, 488),\n",
    "            #bottom_r=(547, 508),\n",
    "            temp_BRG=pokemmo.Lv_dot_BRG,\n",
    "            threshold=0.99,\n",
    "            max_matches=5,\n",
    "            display=True,\n",
    "        )"
   ]
  },
  {
   "cell_type": "code",
   "execution_count": 7,
   "metadata": {},
   "outputs": [
    {
     "name": "stdout",
     "output_type": "stream",
     "text": [
      "window name: РokеМMO\n",
      "Loaded 42 assets.\n",
      "(452, 79, 462, 96)\n",
      "(452, 119, 462, 136)\n",
      "(972, 119, 982, 136)\n",
      "Number of matches: 3\n",
      "Match coords with percentage:\n",
      "Coords: (452, 79, 462, 96), Similarity: 100.00%\n",
      "Coords: (452, 119, 462, 136), Similarity: 100.00%\n",
      "Coords: (972, 119, 982, 136), Similarity: 100.00%\n"
     ]
    }
   ],
   "source": [
    "from main import PokeMMO\n",
    "pokemmo=PokeMMO(dev_mode=True)        \n",
    "battle_option_ready_coords_list = pokemmo.find_items(\n",
    "            #img_BRG=self.img_BRG,\n",
    "            #top_l=(504, 488),\n",
    "            #bottom_r=(547, 508),\n",
    "            temp_BRG=pokemmo.enemy_male_BRG,\n",
    "            threshold=0.99,\n",
    "            max_matches=5,\n",
    "            display=True,\n",
    "        )"
   ]
  },
  {
   "cell_type": "code",
   "execution_count": 6,
   "metadata": {},
   "outputs": [
    {
     "name": "stdout",
     "output_type": "stream",
     "text": [
      "window name: РokеМMO\n",
      "Loaded 42 assets.\n",
      "(712, 79, 722, 96)\n",
      "(972, 79, 982, 96)\n",
      "Number of matches: 2\n",
      "Match coords with percentage:\n",
      "Coords: (712, 79, 722, 96), Similarity: 100.00%\n",
      "Coords: (972, 79, 982, 96), Similarity: 100.00%\n"
     ]
    }
   ],
   "source": [
    "from main import PokeMMO\n",
    "pokemmo=PokeMMO(dev_mode=True)        \n",
    "battle_option_ready_coords_list = pokemmo.find_items(\n",
    "            #img_BRG=self.img_BRG,\n",
    "            #top_l=(504, 488),\n",
    "            #bottom_r=(547, 508),\n",
    "            temp_BRG=pokemmo.enemy_female_BRG,\n",
    "            threshold=0.99,\n",
    "            max_matches=5,\n",
    "            display=True,\n",
    "        )"
   ]
  },
  {
   "cell_type": "code",
   "execution_count": 5,
   "metadata": {},
   "outputs": [
    {
     "name": "stdout",
     "output_type": "stream",
     "text": [
      "window name: PokеММO\n",
      "Loaded 42 assets.\n",
      "(314, 99, 327, 109)\n",
      "(574, 99, 587, 109)\n",
      "(834, 99, 847, 109)\n",
      "(314, 139, 327, 149)\n",
      "(834, 139, 847, 149)\n",
      "Number of matches: 5\n",
      "Match coords with percentage:\n",
      "Coords: (314, 99, 327, 109), Similarity: 100.00%\n",
      "Coords: (574, 99, 587, 109), Similarity: 100.00%\n",
      "Coords: (834, 99, 847, 109), Similarity: 100.00%\n",
      "Coords: (314, 139, 327, 149), Similarity: 100.00%\n",
      "Coords: (834, 139, 847, 149), Similarity: 100.00%\n"
     ]
    }
   ],
   "source": [
    "from main import PokeMMO\n",
    "pokemmo=PokeMMO(dev_mode=True)    \n",
    "hp_BRG_x_y_list = pokemmo.find_items(\n",
    "                temp_BRG=pokemmo.hp_BRG,\n",
    "                threshold=0.992,\n",
    "                max_matches=5,\n",
    "                top_l=(0, 70),\n",
    "                bottom_r=(1080, 170),\n",
    "                #img_BRG=self.img_BRG,\n",
    "                display=True,\n",
    "            )"
   ]
  }
 ],
 "metadata": {
  "kernelspec": {
   "display_name": "venv",
   "language": "python",
   "name": "python3"
  },
  "language_info": {
   "codemirror_mode": {
    "name": "ipython",
    "version": 3
   },
   "file_extension": ".py",
   "mimetype": "text/x-python",
   "name": "python",
   "nbconvert_exporter": "python",
   "pygments_lexer": "ipython3",
   "version": "3.11.3"
  }
 },
 "nbformat": 4,
 "nbformat_minor": 2
}
