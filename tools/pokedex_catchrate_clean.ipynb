{
 "cells": [
  {
   "cell_type": "code",
   "execution_count": 1,
   "metadata": {},
   "outputs": [],
   "source": [
    "import pandas as pd\n"
   ]
  },
  {
   "cell_type": "code",
   "execution_count": 2,
   "metadata": {},
   "outputs": [],
   "source": [
    "df=pd.read_csv(r\"C:\\Users\\SS\\Documents\\GitHub\\pokemmo_py_auto\\asserts\\clean_pokedex.csv\",encoding=\"utf-8\")"
   ]
  },
  {
   "cell_type": "code",
   "execution_count": null,
   "metadata": {},
   "outputs": [],
   "source": [
    "def calculate_catch_rate(\n",
    "    max_hp=65, current_hp=1, catch_rate=1, ball_rate=1, pokemon_condition=1\n",
    "):\n",
    "    numerator = (\n",
    "        (3 * max_hp - 2 * current_hp) * catch_rate * ball_rate * pokemon_condition\n",
    "    )\n",
    "    denominator = 3 * max_hp * 255\n",
    "    final_catch_rate = numerator / denominator\n",
    "    return final_catch_rate"
   ]
  },
  {
   "cell_type": "code",
   "execution_count": null,
   "metadata": {},
   "outputs": [],
   "source": [
    "df['CatchRatePercentage'] = df.apply(lambda row: calculate_catch_rate(\n",
    "    max_hp=60,\n",
    "    current_hp=1,\n",
    "    catch_rate=row['CatchRate'],\n",
    "    ball_rate=1,\n",
    "    pokemon_condition=1\n",
    "), axis=1)"
   ]
  },
  {
   "cell_type": "code",
   "execution_count": null,
   "metadata": {},
   "outputs": [],
   "source": [
    "filtered_df = df[df['CatchRatePercentage'] >= 0.9]\n",
    "filtered_df"
   ]
  },
  {
   "cell_type": "code",
   "execution_count": 3,
   "metadata": {},
   "outputs": [],
   "source": [
    "df['CatchMethod'] = df.apply(lambda row: 1 if row['CatchRate'] >= 190 else (2 if row['CatchRate'] >= 120 and 'Grass' not in row['Types'] else row['CatchMethod']), axis=1)"
   ]
  },
  {
   "cell_type": "code",
   "execution_count": 4,
   "metadata": {},
   "outputs": [],
   "source": [
    "df['CatchMethod'].fillna(3, inplace=True)"
   ]
  },
  {
   "cell_type": "code",
   "execution_count": 5,
   "metadata": {},
   "outputs": [],
   "source": [
    "df['CatchMethod']=df['CatchMethod'].astype(int)"
   ]
  },
  {
   "cell_type": "code",
   "execution_count": null,
   "metadata": {},
   "outputs": [],
   "source": []
  },
  {
   "cell_type": "code",
   "execution_count": 6,
   "metadata": {},
   "outputs": [],
   "source": [
    "df.to_csv(r\"C:\\Users\\SS\\Documents\\GitHub\\pokemmo_py_auto\\asserts\\clean_pokedex.csv\",encoding=\"utf-8\", index=False)"
   ]
  }
 ],
 "metadata": {
  "kernelspec": {
   "display_name": "venv",
   "language": "python",
   "name": "python3"
  },
  "language_info": {
   "codemirror_mode": {
    "name": "ipython",
    "version": 3
   },
   "file_extension": ".py",
   "mimetype": "text/x-python",
   "name": "python",
   "nbconvert_exporter": "python",
   "pygments_lexer": "ipython3",
   "version": "3.11.3"
  },
  "orig_nbformat": 4
 },
 "nbformat": 4,
 "nbformat_minor": 2
}
