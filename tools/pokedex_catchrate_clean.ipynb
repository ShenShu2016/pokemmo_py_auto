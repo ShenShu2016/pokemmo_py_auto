{
 "cells": [
  {
   "cell_type": "code",
   "execution_count": 1,
   "metadata": {},
   "outputs": [],
   "source": [
    "import pandas as pd\n"
   ]
  },
  {
   "cell_type": "code",
   "execution_count": 1,
   "metadata": {},
   "outputs": [
    {
     "data": {
      "text/plain": [
       "'0x23539790000'"
      ]
     },
     "execution_count": 1,
     "metadata": {},
     "output_type": "execute_result"
    }
   ],
   "source": [
    "hex(2427620753408)"
   ]
  },
  {
   "cell_type": "code",
   "execution_count": 2,
   "metadata": {},
   "outputs": [],
   "source": [
    "df=pd.read_csv(r\"C:\\Users\\SS\\Documents\\GitHub\\pokemmo_py_auto\\asserts\\clean_pokedex.csv\",encoding=\"utf-8\")"
   ]
  },
  {
   "cell_type": "code",
   "execution_count": null,
   "metadata": {},
   "outputs": [],
   "source": [
    "def calculate_catch_rate(\n",
    "    max_hp=65, current_hp=1, catch_rate=1, ball_rate=1, pokemon_condition=1\n",
    "):\n",
    "    numerator = (\n",
    "        (3 * max_hp - 2 * current_hp) * catch_rate * ball_rate * pokemon_condition\n",
    "    )\n",
    "    denominator = 3 * max_hp * 255\n",
    "    final_catch_rate = numerator / denominator\n",
    "    return final_catch_rate"
   ]
  },
  {
   "cell_type": "code",
   "execution_count": null,
   "metadata": {},
   "outputs": [],
   "source": [
    "df['CatchRatePercentage'] = df.apply(lambda row: calculate_catch_rate(\n",
    "    max_hp=60,\n",
    "    current_hp=1,\n",
    "    catch_rate=row['CatchRate'],\n",
    "    ball_rate=1,\n",
    "    pokemon_condition=1\n",
    "), axis=1)"
   ]
  },
  {
   "cell_type": "code",
   "execution_count": null,
   "metadata": {},
   "outputs": [],
   "source": [
    "filtered_df = df[df['CatchRatePercentage'] >= 0.9]\n",
    "filtered_df"
   ]
  },
  {
   "cell_type": "code",
   "execution_count": 3,
   "metadata": {},
   "outputs": [],
   "source": [
    "df['CatchMethod'] = df.apply(lambda row: 1 if row['CatchRate'] >= 190 else (2 if row['CatchRate'] >= 120 and 'Grass' not in row['Types'] else row['CatchMethod']), axis=1)"
   ]
  },
  {
   "cell_type": "code",
   "execution_count": 4,
   "metadata": {},
   "outputs": [],
   "source": [
    "df['CatchMethod'].fillna(3, inplace=True)"
   ]
  },
  {
   "cell_type": "code",
   "execution_count": 5,
   "metadata": {},
   "outputs": [],
   "source": [
    "df['CatchMethod']=df['CatchMethod'].astype(int)"
   ]
  },
  {
   "cell_type": "code",
   "execution_count": 6,
   "metadata": {},
   "outputs": [],
   "source": [
    "df.to_csv(r\"C:\\Users\\SS\\Documents\\GitHub\\pokemmo_py_auto\\asserts\\clean_pokedex.csv\",encoding=\"utf-8\", index=False)"
   ]
  },
  {
   "cell_type": "code",
   "execution_count": null,
   "metadata": {},
   "outputs": [],
   "source": [
    "def calculate_catch_rate(\n",
    "    max_hp=30, current_hp=1, catch_rate=255, ball_rate=1, pokemon_condition=1\n",
    "):\n",
    "    numerator = (\n",
    "        (3 * max_hp - 2 * current_hp) * catch_rate * ball_rate * pokemon_condition\n",
    "    )\n",
    "    denominator = 3 * max_hp * 255\n",
    "    final_catch_rate = numerator / denominator\n",
    "    return final_catch_rate\n",
    "\n",
    "\n",
    "# Tuple format: (ball_name, rate, price, condition)\n",
    "balls = [\n",
    "    (\"diveball\", 2.5, 960, \"water\"),\n",
    "    (\"pokeball\", 1, 200, None),\n",
    "    (\"healball\", 1, 340, None),\n",
    "    (\"greatball\", 1.5, 600, None),\n",
    "    (\"luxuryball\", 1, 610, None),\n",
    "    (\"premierball\", 1.5, 780, None),\n",
    "    (\"nestball\", 4, 1300, \"lv lower than 30\"),\n",
    "    (\"timerball\", 4, 1300, \"more than 10 rounds\"),\n",
    "    (\"ultraball\", 2, 1200, None),\n",
    "    (\"quickball\", 5, 1350, \"first round\"),\n",
    "    (\"duskball\", 2.5, 1450, \"in cave or night\"),\n",
    "    (\"netball\", 2.5, 1670, \"bug or water\"),\n",
    "]\n",
    "\n",
    "# Example usage\n",
    "catch_rate = 255\n",
    "ball_rate = 1\n",
    "\n",
    "for ball in balls:\n",
    "    ball_name, rate, price, condition = ball\n",
    "    final_catch_rate = calculate_catch_rate(catch_rate, ball_rate)\n",
    "    print(f\"Ball: {ball_name}\")\n",
    "    print(f\"Final Catch Rate: {final_catch_rate}\")\n",
    "    print(f\"Price: {price}\")\n",
    "    print(f\"Condition: {condition}\")\n",
    "    print()\n"
   ]
  }
 ],
 "metadata": {
  "kernelspec": {
   "display_name": "venv",
   "language": "python",
   "name": "python3"
  },
  "language_info": {
   "codemirror_mode": {
    "name": "ipython",
    "version": 3
   },
   "file_extension": ".py",
   "mimetype": "text/x-python",
   "name": "python",
   "nbconvert_exporter": "python",
   "pygments_lexer": "ipython3",
   "version": "3.11.3"
  },
  "orig_nbformat": 4
 },
 "nbformat": 4,
 "nbformat_minor": 2
}
