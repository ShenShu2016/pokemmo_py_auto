{
 "cells": [
  {
   "cell_type": "code",
   "execution_count": null,
   "metadata": {},
   "outputs": [],
   "source": [
    "# 打开并读取文本文件\n",
    "with open('data.txt', 'r') as file:\n",
    "    data = file.readlines()\n",
    "\n",
    "sprites = []  # 存储精灵的列表\n",
    "\n",
    "# 解析文本数据\n",
    "i = 0\n",
    "while i < len(data):\n",
    "    line = data[i].strip()  # 去除首尾空格和换行符\n",
    "    if line == '':  # 忽略空行\n",
    "        i += 1\n",
    "        continue\n",
    "    \n",
    "    if line.endswith('.png'):  # 解析精灵的描述信息\n",
    "        sprite = {'name': line[:-4]}  # 获取精灵名称\n",
    "        i += 1\n",
    "        while i < len(data) and not data[i].strip() == '':\n",
    "            prop, value = data[i].strip().split(': ')\n",
    "            sprite[prop] = value\n",
    "            i += 1\n",
    "        sprites.append(sprite)\n",
    "    \n",
    "    i += 1\n",
    "\n",
    "# 打印解析后的精灵数据\n",
    "for sprite in sprites:\n",
    "    print(sprite)\n"
   ]
  }
 ],
 "metadata": {
  "language_info": {
   "name": "python"
  },
  "orig_nbformat": 4
 },
 "nbformat": 4,
 "nbformat_minor": 2
}
