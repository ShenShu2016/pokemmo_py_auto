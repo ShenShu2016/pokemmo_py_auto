{
 "cells": [
  {
   "cell_type": "code",
   "execution_count": 1,
   "metadata": {},
   "outputs": [],
   "source": [
    "import pymem\n",
    "from pymem.pattern import pattern_scan_all\n",
    "target_process = \"javaw.exe\"  # Define the name of the process\n",
    "pm = pymem.Pymem(target_process)"
   ]
  },
  {
   "cell_type": "code",
   "execution_count": 2,
   "metadata": {},
   "outputs": [],
   "source": [
    "def analyze_shellcode(battle_instance_data, chunk_size):\n",
    "    if chunk_size != 4:\n",
    "        raise ValueError(\"This function only accepts chunks of size 4\")\n",
    "\n",
    "    chunks = [\n",
    "        battle_instance_data[i : i + chunk_size]\n",
    "        for i in range(0, len(battle_instance_data), chunk_size)\n",
    "    ]  # split into each chunk\n",
    "\n",
    "    print(\"==========================\")\n",
    "    for i, chunk in enumerate(chunks):\n",
    "        hex_values = [hex(byte)[2:].zfill(2).upper() for byte in chunk]\n",
    "\n",
    "        # Convert each byte to decimal\n",
    "        dec1_values = [str(byte).rjust(3, \" \") for byte in chunk]\n",
    "\n",
    "        # Convert each 2 bytes to decimal and hexadecimal\n",
    "        dec2_values = [\n",
    "            str(int.from_bytes(chunk[j : j + 2], \"little\")).rjust(5, \" \")\n",
    "            for j in range(0, len(chunk), 2)\n",
    "        ]\n",
    "        hex2_values = [\n",
    "            hex(int.from_bytes(chunk[j : j + 2], \"little\"))[2:]\n",
    "            .zfill(4)\n",
    "            .upper()\n",
    "            .rjust(5, \" \")\n",
    "            for j in range(0, len(chunk), 2)\n",
    "        ]\n",
    "\n",
    "        # Convert 4 bytes to hexadecimal\n",
    "        hex4_value = hex(int.from_bytes(chunk, \"little\"))[2:].zfill(8).upper()\n",
    "\n",
    "        print(\n",
    "            f\"Position {str(i*chunk_size).zfill(2)}: 1-byte DEC: {' '.join(dec1_values)} 2-byte DEC: {' '.join(dec2_values)} 2-byte HEX: {' '.join(hex2_values)} 4-byte HEX: {hex4_value} RAW: {' '.join(hex_values)}\"\n",
    "        )"
   ]
  },
  {
   "cell_type": "code",
   "execution_count": 19,
   "metadata": {},
   "outputs": [
    {
     "name": "stdout",
     "output_type": "stream",
     "text": [
      "==========================\n",
      "Position 00: 1-byte DEC:   0   0   0   0 2-byte DEC:     0     0 2-byte HEX:  0000  0000 4-byte HEX: 00000000 RAW: 00 00 00 00\n",
      "Position 04: 1-byte DEC:   2   0 255 255 2-byte DEC:     2 65535 2-byte HEX:  0002  FFFF 4-byte HEX: FFFF0002 RAW: 02 00 FF FF\n",
      "Position 08: 1-byte DEC: 184 216  44 235 2-byte DEC: 55480 60204 2-byte HEX:  D8B8  EB2C 4-byte HEX: EB2CD8B8 RAW: B8 D8 2C EB\n",
      "Position 12: 1-byte DEC: 216 216  44 235 2-byte DEC: 55512 60204 2-byte HEX:  D8D8  EB2C 4-byte HEX: EB2CD8D8 RAW: D8 D8 2C EB\n",
      "Position 16: 1-byte DEC: 192 217  44 235 2-byte DEC: 55744 60204 2-byte HEX:  D9C0  EB2C 4-byte HEX: EB2CD9C0 RAW: C0 D9 2C EB\n",
      "Position 20: 1-byte DEC:  96 221  44 235 2-byte DEC: 56672 60204 2-byte HEX:  DD60  EB2C 4-byte HEX: EB2CDD60 RAW: 60 DD 2C EB\n",
      "Position 24: 1-byte DEC:  88  81  29 235 2-byte DEC: 20824 60189 2-byte HEX:  5158  EB1D 4-byte HEX: EB1D5158 RAW: 58 51 1D EB\n",
      "Position 28: 1-byte DEC:   0   0   0   0 2-byte DEC:     0     0 2-byte HEX:  0000  0000 4-byte HEX: 00000000 RAW: 00 00 00 00\n",
      "Position 32: 1-byte DEC:   0   1   0   0 2-byte DEC:   256     0 2-byte HEX:  0100  0000 4-byte HEX: 00000100 RAW: 00 01 00 00\n",
      "Position 36: 1-byte DEC:   0   0   0   0 2-byte DEC:     0     0 2-byte HEX:  0000  0000 4-byte HEX: 00000000 RAW: 00 00 00 00\n",
      "Position 40: 1-byte DEC: 255   0   0   0 2-byte DEC:   255     0 2-byte HEX:  00FF  0000 4-byte HEX: 000000FF RAW: FF 00 00 00\n",
      "Position 44: 1-byte DEC:   0 225  44 235 2-byte DEC: 57600 60204 2-byte HEX:  E100  EB2C 4-byte HEX: EB2CE100 RAW: 00 E1 2C EB\n",
      "Position 48: 1-byte DEC: 192 217  44 235 2-byte DEC: 55744 60204 2-byte HEX:  D9C0  EB2C 4-byte HEX: EB2CD9C0 RAW: C0 D9 2C EB\n",
      "Position 52: 1-byte DEC:  56 225  44 235 2-byte DEC: 57656 60204 2-byte HEX:  E138  EB2C 4-byte HEX: EB2CE138 RAW: 38 E1 2C EB\n",
      "Position 56: 1-byte DEC:   0   0   0   0 2-byte DEC:     0     0 2-byte HEX:  0000  0000 4-byte HEX: 00000000 RAW: 00 00 00 00\n",
      "Position 60: 1-byte DEC: 192 231  25 232 2-byte DEC: 59328 59417 2-byte HEX:  E7C0  E819 4-byte HEX: E819E7C0 RAW: C0 E7 19 E8\n",
      "Position 64: 1-byte DEC:   0 225  44 235 2-byte DEC: 57600 60204 2-byte HEX:  E100  EB2C 4-byte HEX: EB2CE100 RAW: 00 E1 2C EB\n",
      "Position 68: 1-byte DEC:   0   0   0   0 2-byte DEC:     0     0 2-byte HEX:  0000  0000 4-byte HEX: 00000000 RAW: 00 00 00 00\n",
      "Position 72: 1-byte DEC:   9   0   0   0 2-byte DEC:     9     0 2-byte HEX:  0009  0000 4-byte HEX: 00000009 RAW: 09 00 00 00\n",
      "Position 76: 1-byte DEC:   0   0   0   0 2-byte DEC:     0     0 2-byte HEX:  0000  0000 4-byte HEX: 00000000 RAW: 00 00 00 00\n",
      "Position 80: 1-byte DEC:  75 140   8  32 2-byte DEC: 35915  8200 2-byte HEX:  8C4B  2008 4-byte HEX: 20088C4B RAW: 4B 8C 08 20\n",
      "Position 84: 1-byte DEC: 120   2 186   0 2-byte DEC:   632   186 2-byte HEX:  0278  00BA 4-byte HEX: 00BA0278 RAW: 78 02 BA 00\n",
      "Position 88: 1-byte DEC:   2 112   1   0 2-byte DEC: 28674     1 2-byte HEX:  7002  0001 4-byte HEX: 00017002 RAW: 02 70 01 00\n",
      "Position 92: 1-byte DEC:   0   2   2   0 2-byte DEC:   512     2 2-byte HEX:  0200  0002 4-byte HEX: 00020200 RAW: 00 02 02 00\n",
      "Position 96: 1-byte DEC: 224 241 204 235 2-byte DEC: 61920 60364 2-byte HEX:  F1E0  EBCC 4-byte HEX: EBCCF1E0 RAW: E0 F1 CC EB\n",
      "Position 100: 1-byte DEC:   0   0   0   0 2-byte DEC:     0     0 2-byte HEX:  0000  0000 4-byte HEX: 00000000 RAW: 00 00 00 00\n",
      "Position 104: 1-byte DEC:   9   0   0   0 2-byte DEC:     9     0 2-byte HEX:  0009  0000 4-byte HEX: 00000009 RAW: 09 00 00 00\n",
      "Position 108: 1-byte DEC:   0   0   0   0 2-byte DEC:     0     0 2-byte HEX:  0000  0000 4-byte HEX: 00000000 RAW: 00 00 00 00\n",
      "Position 112: 1-byte DEC:  68 143   8  32 2-byte DEC: 36676  8200 2-byte HEX:  8F44  2008 4-byte HEX: 20088F44 RAW: 44 8F 08 20\n",
      "Position 116: 1-byte DEC:  75   0   0   0 2-byte DEC:    75     0 2-byte HEX:  004B  0000 4-byte HEX: 0000004B RAW: 4B 00 00 00\n",
      "Position 120: 1-byte DEC:  81  91  84   1 2-byte DEC: 23377   340 2-byte HEX:  5B51  0154 4-byte HEX: 01545B51 RAW: 51 5B 54 01\n",
      "Position 124: 1-byte DEC:   0   0   0   0 2-byte DEC:     0     0 2-byte HEX:  0000  0000 4-byte HEX: 00000000 RAW: 00 00 00 00\n",
      "Position 128: 1-byte DEC:  87  38  84   1 2-byte DEC:  9815   340 2-byte HEX:  2657  0154 4-byte HEX: 01542657 RAW: 57 26 54 01\n",
      "Position 132: 1-byte DEC:   0   0   0   0 2-byte DEC:     0     0 2-byte HEX:  0000  0000 4-byte HEX: 00000000 RAW: 00 00 00 00\n",
      "Position 136: 1-byte DEC:  81  91  84   1 2-byte DEC: 23377   340 2-byte HEX:  5B51  0154 4-byte HEX: 01545B51 RAW: 51 5B 54 01\n",
      "Position 140: 1-byte DEC:   0   0   0   0 2-byte DEC:     0     0 2-byte HEX:  0000  0000 4-byte HEX: 00000000 RAW: 00 00 00 00\n",
      "Position 144: 1-byte DEC: 173 154  79   1 2-byte DEC: 39597   335 2-byte HEX:  9AAD  014F 4-byte HEX: 014F9AAD RAW: AD 9A 4F 01\n",
      "Position 148: 1-byte DEC:   0   0   0   0 2-byte DEC:     0     0 2-byte HEX:  0000  0000 4-byte HEX: 00000000 RAW: 00 00 00 00\n",
      "Position 152: 1-byte DEC: 221 146  79   1 2-byte DEC: 37597   335 2-byte HEX:  92DD  014F 4-byte HEX: 014F92DD RAW: DD 92 4F 01\n",
      "Position 156: 1-byte DEC:   0   0   0   0 2-byte DEC:     0     0 2-byte HEX:  0000  0000 4-byte HEX: 00000000 RAW: 00 00 00 00\n",
      "Position 160: 1-byte DEC: 120 212  78   1 2-byte DEC: 54392   334 2-byte HEX:  D478  014E 4-byte HEX: 014ED478 RAW: 78 D4 4E 01\n",
      "Position 164: 1-byte DEC:   0   0   0   0 2-byte DEC:     0     0 2-byte HEX:  0000  0000 4-byte HEX: 00000000 RAW: 00 00 00 00\n",
      "Position 168: 1-byte DEC:   0   0   0   0 2-byte DEC:     0     0 2-byte HEX:  0000  0000 4-byte HEX: 00000000 RAW: 00 00 00 00\n",
      "Position 172: 1-byte DEC:   0   0   0   0 2-byte DEC:     0     0 2-byte HEX:  0000  0000 4-byte HEX: 00000000 RAW: 00 00 00 00\n",
      "Position 176: 1-byte DEC:  96 216  44 235 2-byte DEC: 55392 60204 2-byte HEX:  D860  EB2C 4-byte HEX: EB2CD860 RAW: 60 D8 2C EB\n",
      "Position 180: 1-byte DEC:   0   0   0   0 2-byte DEC:     0     0 2-byte HEX:  0000  0000 4-byte HEX: 00000000 RAW: 00 00 00 00\n",
      "Position 184: 1-byte DEC:  64 217  44 235 2-byte DEC: 55616 60204 2-byte HEX:  D940  EB2C 4-byte HEX: EB2CD940 RAW: 40 D9 2C EB\n",
      "Position 188: 1-byte DEC:  88 217  44 235 2-byte DEC: 55640 60204 2-byte HEX:  D958  EB2C 4-byte HEX: EB2CD958 RAW: 58 D9 2C EB\n",
      "Position 192: 1-byte DEC: 112 217  44 235 2-byte DEC: 55664 60204 2-byte HEX:  D970  EB2C 4-byte HEX: EB2CD970 RAW: 70 D9 2C EB\n",
      "Position 196: 1-byte DEC:   0   0   0   0 2-byte DEC:     0     0 2-byte HEX:  0000  0000 4-byte HEX: 00000000 RAW: 00 00 00 00\n",
      "Position 200: 1-byte DEC: 136 217  44 235 2-byte DEC: 55688 60204 2-byte HEX:  D988  EB2C 4-byte HEX: EB2CD988 RAW: 88 D9 2C EB\n",
      "Position 204: 1-byte DEC: 160 217  44 235 2-byte DEC: 55712 60204 2-byte HEX:  D9A0  EB2C 4-byte HEX: EB2CD9A0 RAW: A0 D9 2C EB\n",
      "Position 208: 1-byte DEC:   9   0   0   0 2-byte DEC:     9     0 2-byte HEX:  0009  0000 4-byte HEX: 00000009 RAW: 09 00 00 00\n",
      "Position 212: 1-byte DEC:   0   0   0   0 2-byte DEC:     0     0 2-byte HEX:  0000  0000 4-byte HEX: 00000000 RAW: 00 00 00 00\n",
      "Position 216: 1-byte DEC: 190   8   4  32 2-byte DEC:  2238  8196 2-byte HEX:  08BE  2004 4-byte HEX: 200408BE RAW: BE 08 04 20\n",
      "Position 220: 1-byte DEC:   0  32  30  68 2-byte DEC:  8192 17438 2-byte HEX:  2000  441E 4-byte HEX: 441E2000 RAW: 00 20 1E 44\n",
      "Position 224: 1-byte DEC:   0 128  58  67 2-byte DEC: 32768 17210 2-byte HEX:  8000  433A 4-byte HEX: 433A8000 RAW: 00 80 3A 43\n",
      "Position 228: 1-byte DEC:   0   0   0   0 2-byte DEC:     0     0 2-byte HEX:  0000  0000 4-byte HEX: 00000000 RAW: 00 00 00 00\n",
      "Position 232: 1-byte DEC:   9   0   0   0 2-byte DEC:     9     0 2-byte HEX:  0009  0000 4-byte HEX: 00000009 RAW: 09 00 00 00\n",
      "Position 236: 1-byte DEC:   0   0   0   0 2-byte DEC:     0     0 2-byte HEX:  0000  0000 4-byte HEX: 00000000 RAW: 00 00 00 00\n",
      "Position 240: 1-byte DEC: 190   8   4  32 2-byte DEC:  2238  8196 2-byte HEX:  08BE  2004 4-byte HEX: 200408BE RAW: BE 08 04 20\n",
      "Position 244: 1-byte DEC:   0  96  30  68 2-byte DEC: 24576 17438 2-byte HEX:  6000  441E 4-byte HEX: 441E6000 RAW: 00 60 1E 44\n",
      "Position 248: 1-byte DEC:   0 128  58  67 2-byte DEC: 32768 17210 2-byte HEX:  8000  433A 4-byte HEX: 433A8000 RAW: 00 80 3A 43\n",
      "Position 252: 1-byte DEC:   0   0   0   0 2-byte DEC:     0     0 2-byte HEX:  0000  0000 4-byte HEX: 00000000 RAW: 00 00 00 00\n"
     ]
    }
   ],
   "source": [
    "battle_instance_data = pm.read_bytes(3945584840-88, 256)\n",
    "analyze_shellcode(battle_instance_data, 4)"
   ]
  },
  {
   "cell_type": "code",
   "execution_count": 16,
   "metadata": {},
   "outputs": [
    {
     "ename": "TypeError",
     "evalue": "object of type 'int' has no len()",
     "output_type": "error",
     "traceback": [
      "\u001b[1;31m---------------------------------------------------------------------------\u001b[0m",
      "\u001b[1;31mTypeError\u001b[0m                                 Traceback (most recent call last)",
      "Cell \u001b[1;32mIn[16], line 2\u001b[0m\n\u001b[0;32m      1\u001b[0m battle_instance_data \u001b[39m=\u001b[39m pm\u001b[39m.\u001b[39mread_bytes(\u001b[39m4087728144\u001b[39m, \u001b[39m256\u001b[39m)\n\u001b[1;32m----> 2\u001b[0m analyze_shellcode(\u001b[39m4087154792\u001b[39;49m, \u001b[39m4\u001b[39;49m)\n",
      "Cell \u001b[1;32mIn[2], line 7\u001b[0m, in \u001b[0;36manalyze_shellcode\u001b[1;34m(battle_instance_data, chunk_size)\u001b[0m\n\u001b[0;32m      2\u001b[0m \u001b[39mif\u001b[39;00m chunk_size \u001b[39m!=\u001b[39m \u001b[39m4\u001b[39m:\n\u001b[0;32m      3\u001b[0m     \u001b[39mraise\u001b[39;00m \u001b[39mValueError\u001b[39;00m(\u001b[39m\"\u001b[39m\u001b[39mThis function only accepts chunks of size 4\u001b[39m\u001b[39m\"\u001b[39m)\n\u001b[0;32m      5\u001b[0m chunks \u001b[39m=\u001b[39m [\n\u001b[0;32m      6\u001b[0m     battle_instance_data[i : i \u001b[39m+\u001b[39m chunk_size]\n\u001b[1;32m----> 7\u001b[0m     \u001b[39mfor\u001b[39;00m i \u001b[39min\u001b[39;00m \u001b[39mrange\u001b[39m(\u001b[39m0\u001b[39m, \u001b[39mlen\u001b[39m(battle_instance_data), chunk_size)\n\u001b[0;32m      8\u001b[0m ]  \u001b[39m# split into each chunk\u001b[39;00m\n\u001b[0;32m     10\u001b[0m \u001b[39mprint\u001b[39m(\u001b[39m\"\u001b[39m\u001b[39m==========================\u001b[39m\u001b[39m\"\u001b[39m)\n\u001b[0;32m     11\u001b[0m \u001b[39mfor\u001b[39;00m i, chunk \u001b[39min\u001b[39;00m \u001b[39menumerate\u001b[39m(chunks):\n",
      "\u001b[1;31mTypeError\u001b[0m: object of type 'int' has no len()"
     ]
    }
   ],
   "source": [
    "battle_instance_data = pm.read_bytes(4008985424, 256)\n",
    "analyze_shellcode(4008985424, 4)"
   ]
  }
 ],
 "metadata": {
  "kernelspec": {
   "display_name": "venv",
   "language": "python",
   "name": "python3"
  },
  "language_info": {
   "codemirror_mode": {
    "name": "ipython",
    "version": 3
   },
   "file_extension": ".py",
   "mimetype": "text/x-python",
   "name": "python",
   "nbconvert_exporter": "python",
   "pygments_lexer": "ipython3",
   "version": "3.11.3"
  },
  "orig_nbformat": 4
 },
 "nbformat": 4,
 "nbformat_minor": 2
}
