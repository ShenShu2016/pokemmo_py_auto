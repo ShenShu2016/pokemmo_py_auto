{
 "cells": [
  {
   "cell_type": "code",
   "execution_count": 1,
   "metadata": {},
   "outputs": [],
   "source": [
    "import pymem\n",
    "from pymem.pattern import pattern_scan_all\n",
    "target_process = \"javaw.exe\"  # Define the name of the process\n",
    "pm = pymem.Pymem(target_process)"
   ]
  },
  {
   "cell_type": "code",
   "execution_count": 2,
   "metadata": {},
   "outputs": [],
   "source": [
    "def analyze_shellcode(battle_instance_data, chunk_size):\n",
    "    if chunk_size != 4:\n",
    "        raise ValueError(\"This function only accepts chunks of size 4\")\n",
    "\n",
    "    chunks = [\n",
    "        battle_instance_data[i : i + chunk_size]\n",
    "        for i in range(0, len(battle_instance_data), chunk_size)\n",
    "    ]  # split into each chunk\n",
    "\n",
    "    print(\"==========================\")\n",
    "    for i, chunk in enumerate(chunks):\n",
    "        hex_values = [hex(byte)[2:].zfill(2).upper() for byte in chunk]\n",
    "\n",
    "        # Convert each byte to decimal\n",
    "        dec1_values = [str(byte).rjust(3, \" \") for byte in chunk]\n",
    "\n",
    "        # Convert each 2 bytes to decimal and hexadecimal\n",
    "        dec2_values = [\n",
    "            str(int.from_bytes(chunk[j : j + 2], \"little\")).rjust(5, \" \")\n",
    "            for j in range(0, len(chunk), 2)\n",
    "        ]\n",
    "        hex2_values = [\n",
    "            hex(int.from_bytes(chunk[j : j + 2], \"little\"))[2:]\n",
    "            .zfill(4)\n",
    "            .upper()\n",
    "            .rjust(5, \" \")\n",
    "            for j in range(0, len(chunk), 2)\n",
    "        ]\n",
    "\n",
    "        # Convert 4 bytes to hexadecimal\n",
    "        hex4_value = hex(int.from_bytes(chunk, \"little\"))[2:].zfill(8).upper()\n",
    "\n",
    "        print(\n",
    "            f\"Position {str(i*chunk_size).zfill(2)}: 1-byte DEC: {' '.join(dec1_values)} 2-byte DEC: {' '.join(dec2_values)} 2-byte HEX: {' '.join(hex2_values)} 4-byte HEX: {hex4_value} RAW: {' '.join(hex_values)}\"\n",
    "        )"
   ]
  },
  {
   "cell_type": "code",
   "execution_count": 17,
   "metadata": {},
   "outputs": [
    {
     "name": "stdout",
     "output_type": "stream",
     "text": [
      "==========================\n",
      "Position 00: 1-byte DEC:   9   0   0   0 2-byte DEC:     9     0 2-byte HEX:  0009  0000 4-byte HEX: 00000009 RAW: 09 00 00 00\n",
      "Position 04: 1-byte DEC:   0   0   0   0 2-byte DEC:     0     0 2-byte HEX:  0000  0000 4-byte HEX: 00000000 RAW: 00 00 00 00\n",
      "Position 08: 1-byte DEC:  83  59   3  32 2-byte DEC: 15187  8195 2-byte HEX:  3B53  2003 4-byte HEX: 20033B53 RAW: 53 3B 03 20\n",
      "Position 12: 1-byte DEC:   0   0   0   0 2-byte DEC:     0     0 2-byte HEX:  0000  0000 4-byte HEX: 00000000 RAW: 00 00 00 00\n",
      "Position 16: 1-byte DEC:   0   0   0   0 2-byte DEC:     0     0 2-byte HEX:  0000  0000 4-byte HEX: 00000000 RAW: 00 00 00 00\n",
      "Position 20: 1-byte DEC:  80   5   0   0 2-byte DEC:  1360     0 2-byte HEX:  0550  0000 4-byte HEX: 00000550 RAW: 50 05 00 00\n",
      "Position 24: 1-byte DEC:   0   3   0   0 2-byte DEC:   768     0 2-byte HEX:  0300  0000 4-byte HEX: 00000300 RAW: 00 03 00 00\n",
      "Position 28: 1-byte DEC:   0   0   0   0 2-byte DEC:     0     0 2-byte HEX:  0000  0000 4-byte HEX: 00000000 RAW: 00 00 00 00\n",
      "Position 32: 1-byte DEC: 232   3   0   0 2-byte DEC:  1000     0 2-byte HEX:  03E8  0000 4-byte HEX: 000003E8 RAW: E8 03 00 00\n",
      "Position 36: 1-byte DEC: 255 255 255 255 2-byte DEC: 65535 65535 2-byte HEX:  FFFF  FFFF 4-byte HEX: FFFFFFFF RAW: FF FF FF FF\n",
      "Position 40: 1-byte DEC:  64   0  65   0 2-byte DEC:    64    65 2-byte HEX:  0040  0041 4-byte HEX: 00410040 RAW: 40 00 41 00\n",
      "Position 44: 1-byte DEC:  65   0  64   0 2-byte DEC:    65    64 2-byte HEX:  0041  0040 4-byte HEX: 00400041 RAW: 41 00 40 00\n",
      "Position 48: 1-byte DEC:   0   0   0   0 2-byte DEC:     0     0 2-byte HEX:  0000  0000 4-byte HEX: 00000000 RAW: 00 00 00 00\n",
      "Position 52: 1-byte DEC:   0   0   0   0 2-byte DEC:     0     0 2-byte HEX:  0000  0000 4-byte HEX: 00000000 RAW: 00 00 00 00\n",
      "Position 56: 1-byte DEC:   0   1   0   1 2-byte DEC:   256   256 2-byte HEX:  0100  0100 4-byte HEX: 01000100 RAW: 00 01 00 01\n",
      "Position 60: 1-byte DEC:   1   0   1   0 2-byte DEC:     1     1 2-byte HEX:  0001  0001 4-byte HEX: 00010001 RAW: 01 00 01 00\n",
      "Position 64: 1-byte DEC:   1   0   0   1 2-byte DEC:     1   256 2-byte HEX:  0001  0100 4-byte HEX: 01000001 RAW: 01 00 00 01\n",
      "Position 68: 1-byte DEC:  80  80 250 233 2-byte DEC: 20560 59898 2-byte HEX:  5050  E9FA 4-byte HEX: E9FA5050 RAW: 50 50 FA E9\n",
      "Position 72: 1-byte DEC:  32 209 196 234 2-byte DEC: 53536 60100 2-byte HEX:  D120  EAC4 4-byte HEX: EAC4D120 RAW: 20 D1 C4 EA\n",
      "Position 76: 1-byte DEC: 112 114 239 233 2-byte DEC: 29296 59887 2-byte HEX:  7270  E9EF 4-byte HEX: E9EF7270 RAW: 70 72 EF E9\n",
      "Position 80: 1-byte DEC:   0   0   0   0 2-byte DEC:     0     0 2-byte HEX:  0000  0000 4-byte HEX: 00000000 RAW: 00 00 00 00\n",
      "Position 84: 1-byte DEC:   0   0   0   0 2-byte DEC:     0     0 2-byte HEX:  0000  0000 4-byte HEX: 00000000 RAW: 00 00 00 00\n",
      "Position 88: 1-byte DEC:   0   0   0   0 2-byte DEC:     0     0 2-byte HEX:  0000  0000 4-byte HEX: 00000000 RAW: 00 00 00 00\n",
      "Position 92: 1-byte DEC:   0   0   0   0 2-byte DEC:     0     0 2-byte HEX:  0000  0000 4-byte HEX: 00000000 RAW: 00 00 00 00\n",
      "Position 96: 1-byte DEC: 168  45 182 232 2-byte DEC: 11688 59574 2-byte HEX:  2DA8  E8B6 4-byte HEX: E8B62DA8 RAW: A8 2D B6 E8\n",
      "Position 100: 1-byte DEC:   0   0   0   0 2-byte DEC:     0     0 2-byte HEX:  0000  0000 4-byte HEX: 00000000 RAW: 00 00 00 00\n",
      "Position 104: 1-byte DEC:   0   0   0   0 2-byte DEC:     0     0 2-byte HEX:  0000  0000 4-byte HEX: 00000000 RAW: 00 00 00 00\n",
      "Position 108: 1-byte DEC:   0   0   0   0 2-byte DEC:     0     0 2-byte HEX:  0000  0000 4-byte HEX: 00000000 RAW: 00 00 00 00\n",
      "Position 112: 1-byte DEC: 136  81 250 233 2-byte DEC: 20872 59898 2-byte HEX:  5188  E9FA 4-byte HEX: E9FA5188 RAW: 88 51 FA E9\n",
      "Position 116: 1-byte DEC: 232  68 244 238 2-byte DEC: 17640 61172 2-byte HEX:  44E8  EEF4 4-byte HEX: EEF444E8 RAW: E8 44 F4 EE\n",
      "Position 120: 1-byte DEC: 104  69 244 238 2-byte DEC: 17768 61172 2-byte HEX:  4568  EEF4 4-byte HEX: EEF44568 RAW: 68 45 F4 EE\n",
      "Position 124: 1-byte DEC:   0   0   0   0 2-byte DEC:     0     0 2-byte HEX:  0000  0000 4-byte HEX: 00000000 RAW: 00 00 00 00\n",
      "Position 128: 1-byte DEC: 112 150 251 238 2-byte DEC: 38512 61179 2-byte HEX:  9670  EEFB 4-byte HEX: EEFB9670 RAW: 70 96 FB EE\n",
      "Position 132: 1-byte DEC:   0   0   0   0 2-byte DEC:     0     0 2-byte HEX:  0000  0000 4-byte HEX: 00000000 RAW: 00 00 00 00\n",
      "Position 136: 1-byte DEC:   0   0   0   0 2-byte DEC:     0     0 2-byte HEX:  0000  0000 4-byte HEX: 00000000 RAW: 00 00 00 00\n",
      "Position 140: 1-byte DEC: 144 125  27 232 2-byte DEC: 32144 59419 2-byte HEX:  7D90  E81B 4-byte HEX: E81B7D90 RAW: 90 7D 1B E8\n",
      "Position 144: 1-byte DEC: 224  84 250 233 2-byte DEC: 21728 59898 2-byte HEX:  54E0  E9FA 4-byte HEX: E9FA54E0 RAW: E0 54 FA E9\n",
      "Position 148: 1-byte DEC:   0   0   0   0 2-byte DEC:     0     0 2-byte HEX:  0000  0000 4-byte HEX: 00000000 RAW: 00 00 00 00\n",
      "Position 152: 1-byte DEC:   0   0   0   0 2-byte DEC:     0     0 2-byte HEX:  0000  0000 4-byte HEX: 00000000 RAW: 00 00 00 00\n",
      "Position 156: 1-byte DEC:   3   0   0   0 2-byte DEC:     3     0 2-byte HEX:  0003  0000 4-byte HEX: 00000003 RAW: 03 00 00 00\n",
      "Position 160: 1-byte DEC:   0   0   0   0 2-byte DEC:     0     0 2-byte HEX:  0000  0000 4-byte HEX: 00000000 RAW: 00 00 00 00\n",
      "Position 164: 1-byte DEC: 128 234 240 238 2-byte DEC: 60032 61168 2-byte HEX:  EA80  EEF0 4-byte HEX: EEF0EA80 RAW: 80 EA F0 EE\n",
      "Position 168: 1-byte DEC: 112 150 251 238 2-byte DEC: 38512 61179 2-byte HEX:  9670  EEFB 4-byte HEX: EEFB9670 RAW: 70 96 FB EE\n",
      "Position 172: 1-byte DEC:  48 131 251 238 2-byte DEC: 33584 61179 2-byte HEX:  8330  EEFB 4-byte HEX: EEFB8330 RAW: 30 83 FB EE\n",
      "Position 176: 1-byte DEC: 168  42 251 238 2-byte DEC: 10920 61179 2-byte HEX:  2AA8  EEFB 4-byte HEX: EEFB2AA8 RAW: A8 2A FB EE\n",
      "Position 180: 1-byte DEC: 176 208 251 238 2-byte DEC: 53424 61179 2-byte HEX:  D0B0  EEFB 4-byte HEX: EEFBD0B0 RAW: B0 D0 FB EE\n",
      "Position 184: 1-byte DEC: 136 111 244 238 2-byte DEC: 28552 61172 2-byte HEX:  6F88  EEF4 4-byte HEX: EEF46F88 RAW: 88 6F F4 EE\n",
      "Position 188: 1-byte DEC:  40  88 244 238 2-byte DEC: 22568 61172 2-byte HEX:  5828  EEF4 4-byte HEX: EEF45828 RAW: 28 58 F4 EE\n",
      "Position 192: 1-byte DEC:   0   0   0   0 2-byte DEC:     0     0 2-byte HEX:  0000  0000 4-byte HEX: 00000000 RAW: 00 00 00 00\n",
      "Position 196: 1-byte DEC: 192  28 255 238 2-byte DEC:  7360 61183 2-byte HEX:  1CC0  EEFF 4-byte HEX: EEFF1CC0 RAW: C0 1C FF EE\n",
      "Position 200: 1-byte DEC: 216  28 255 238 2-byte DEC:  7384 61183 2-byte HEX:  1CD8  EEFF 4-byte HEX: EEFF1CD8 RAW: D8 1C FF EE\n",
      "Position 204: 1-byte DEC: 240  28 255 238 2-byte DEC:  7408 61183 2-byte HEX:  1CF0  EEFF 4-byte HEX: EEFF1CF0 RAW: F0 1C FF EE\n",
      "Position 208: 1-byte DEC:  88  29 255 238 2-byte DEC:  7512 61183 2-byte HEX:  1D58  EEFF 4-byte HEX: EEFF1D58 RAW: 58 1D FF EE\n",
      "Position 212: 1-byte DEC: 224 112 244 238 2-byte DEC: 28896 61172 2-byte HEX:  70E0  EEF4 4-byte HEX: EEF470E0 RAW: E0 70 F4 EE\n",
      "Position 216: 1-byte DEC:   0   0   0   0 2-byte DEC:     0     0 2-byte HEX:  0000  0000 4-byte HEX: 00000000 RAW: 00 00 00 00\n",
      "Position 220: 1-byte DEC: 168 167 251 238 2-byte DEC: 42920 61179 2-byte HEX:  A7A8  EEFB 4-byte HEX: EEFBA7A8 RAW: A8 A7 FB EE\n",
      "Position 224: 1-byte DEC:  48 158 251 238 2-byte DEC: 40496 61179 2-byte HEX:  9E30  EEFB 4-byte HEX: EEFB9E30 RAW: 30 9E FB EE\n",
      "Position 228: 1-byte DEC: 128 164 251 238 2-byte DEC: 42112 61179 2-byte HEX:  A480  EEFB 4-byte HEX: EEFBA480 RAW: 80 A4 FB EE\n",
      "Position 232: 1-byte DEC:   8 155 251 238 2-byte DEC: 39688 61179 2-byte HEX:  9B08  EEFB 4-byte HEX: EEFB9B08 RAW: 08 9B FB EE\n",
      "Position 236: 1-byte DEC:  88 161 251 238 2-byte DEC: 41304 61179 2-byte HEX:  A158  EEFB 4-byte HEX: EEFBA158 RAW: 58 A1 FB EE\n",
      "Position 240: 1-byte DEC: 240 151 251 238 2-byte DEC: 38896 61179 2-byte HEX:  97F0  EEFB 4-byte HEX: EEFB97F0 RAW: F0 97 FB EE\n",
      "Position 244: 1-byte DEC: 192  29 255 238 2-byte DEC:  7616 61183 2-byte HEX:  1DC0  EEFF 4-byte HEX: EEFF1DC0 RAW: C0 1D FF EE\n",
      "Position 248: 1-byte DEC:  72  70 244 238 2-byte DEC: 17992 61172 2-byte HEX:  4648  EEF4 4-byte HEX: EEF44648 RAW: 48 46 F4 EE\n",
      "Position 252: 1-byte DEC: 104  72 244 238 2-byte DEC: 18536 61172 2-byte HEX:  4868  EEF4 4-byte HEX: EEF44868 RAW: 68 48 F4 EE\n"
     ]
    }
   ],
   "source": [
    "battle_instance_data = pm.read_bytes(4008985424, 256)\n",
    "analyze_shellcode(battle_instance_data, 4)"
   ]
  },
  {
   "cell_type": "code",
   "execution_count": 16,
   "metadata": {},
   "outputs": [
    {
     "ename": "TypeError",
     "evalue": "object of type 'int' has no len()",
     "output_type": "error",
     "traceback": [
      "\u001b[1;31m---------------------------------------------------------------------------\u001b[0m",
      "\u001b[1;31mTypeError\u001b[0m                                 Traceback (most recent call last)",
      "Cell \u001b[1;32mIn[16], line 2\u001b[0m\n\u001b[0;32m      1\u001b[0m battle_instance_data \u001b[39m=\u001b[39m pm\u001b[39m.\u001b[39mread_bytes(\u001b[39m4087728144\u001b[39m, \u001b[39m256\u001b[39m)\n\u001b[1;32m----> 2\u001b[0m analyze_shellcode(\u001b[39m4087154792\u001b[39;49m, \u001b[39m4\u001b[39;49m)\n",
      "Cell \u001b[1;32mIn[2], line 7\u001b[0m, in \u001b[0;36manalyze_shellcode\u001b[1;34m(battle_instance_data, chunk_size)\u001b[0m\n\u001b[0;32m      2\u001b[0m \u001b[39mif\u001b[39;00m chunk_size \u001b[39m!=\u001b[39m \u001b[39m4\u001b[39m:\n\u001b[0;32m      3\u001b[0m     \u001b[39mraise\u001b[39;00m \u001b[39mValueError\u001b[39;00m(\u001b[39m\"\u001b[39m\u001b[39mThis function only accepts chunks of size 4\u001b[39m\u001b[39m\"\u001b[39m)\n\u001b[0;32m      5\u001b[0m chunks \u001b[39m=\u001b[39m [\n\u001b[0;32m      6\u001b[0m     battle_instance_data[i : i \u001b[39m+\u001b[39m chunk_size]\n\u001b[1;32m----> 7\u001b[0m     \u001b[39mfor\u001b[39;00m i \u001b[39min\u001b[39;00m \u001b[39mrange\u001b[39m(\u001b[39m0\u001b[39m, \u001b[39mlen\u001b[39m(battle_instance_data), chunk_size)\n\u001b[0;32m      8\u001b[0m ]  \u001b[39m# split into each chunk\u001b[39;00m\n\u001b[0;32m     10\u001b[0m \u001b[39mprint\u001b[39m(\u001b[39m\"\u001b[39m\u001b[39m==========================\u001b[39m\u001b[39m\"\u001b[39m)\n\u001b[0;32m     11\u001b[0m \u001b[39mfor\u001b[39;00m i, chunk \u001b[39min\u001b[39;00m \u001b[39menumerate\u001b[39m(chunks):\n",
      "\u001b[1;31mTypeError\u001b[0m: object of type 'int' has no len()"
     ]
    }
   ],
   "source": [
    "battle_instance_data = pm.read_bytes(4008985424, 256)\n",
    "analyze_shellcode(4008985424, 4)"
   ]
  }
 ],
 "metadata": {
  "kernelspec": {
   "display_name": "venv",
   "language": "python",
   "name": "python3"
  },
  "language_info": {
   "codemirror_mode": {
    "name": "ipython",
    "version": 3
   },
   "file_extension": ".py",
   "mimetype": "text/x-python",
   "name": "python",
   "nbconvert_exporter": "python",
   "pygments_lexer": "ipython3",
   "version": "3.11.3"
  },
  "orig_nbformat": 4
 },
 "nbformat": 4,
 "nbformat_minor": 2
}
