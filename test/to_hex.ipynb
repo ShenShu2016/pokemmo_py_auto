{
 "cells": [
  {
   "cell_type": "code",
   "execution_count": 11,
   "metadata": {},
   "outputs": [
    {
     "data": {
      "text/plain": [
       "'0x1efb34871e0'"
      ]
     },
     "execution_count": 11,
     "metadata": {},
     "output_type": "execute_result"
    }
   ],
   "source": [
    "hex(2129016680928)"
   ]
  },
  {
   "cell_type": "code",
   "execution_count": 5,
   "metadata": {},
   "outputs": [
    {
     "name": "stdout",
     "output_type": "stream",
     "text": [
      "{0: {'pokedex': 286, 'hp': 183, 'happiness': 84.0, 'name': 'AYchen', 'skill_0': {'name': 'False Swipe', 'id': 206, 'pp': 21}}, 5: {'pokedex': 216, 'hp': 90, 'happiness': 62.0, 'name': 'BRUCELEELI', 'skill_0': {'name': 'Sweet Scent', 'id': 230, 'pp': 20}}}\n"
     ]
    }
   ],
   "source": [
    "pokemon_dict = {0: {'pokedex': 286, 'hp': 183, 'happiness': 84.0, 'name': 'AYchen', 'skill_0': {'id': 206, 'pp': 21}, 'skill_1': {'id': 402, 'pp': 13}, 'skill_2': {'id': 147, 'pp': 15}, 'skill_3': {'id': 164, 'pp': 10}}, 1: {'pokedex': 64, 'hp': 138, 'happiness': 100.0, 'name': 'Hodson', 'skill_0': {'id': 94, 'pp': 10}, 'skill_1': {'id': 347, 'pp': 20}, 'skill_2': {'id': 100, 'pp': 20}, 'skill_3': {'id': 351, 'pp': 20}}, 2: {'pokedex': 553, 'hp': 223, 'happiness': 100.0, 'name': 'CaptainMarshall\\x00\\t', 'skill_0': {'id': 89, 'pp': 10}, 'skill_1': {'id': 242, 'pp': 15}, 'skill_2': {'id': 444, 'pp': 5}, 'skill_3': {'id': 280, 'pp': 15}}, 3: {'pokedex': 130, 'hp': 158, 'happiness': 100.0, 'name': 'sajasxz\\x00\\t', 'skill_0': {'id': 423, 'pp': 15}, 'skill_1': {'id': 349, 'pp': 20}, 'skill_2': {'id': 242, 'pp': 15}, 'skill_3': {'id': 127, 'pp': 15}}, 4: {'pokedex': 169, 'hp': 174, 'happiness': 55.0, 'name': 'yonyskl\\x00\\t', 'skill_0': {'id': 512, 'pp': 15}, 'skill_1': {'id': 92, 'pp': 10}, 'skill_2': {'id': 440, 'pp': 20}, 'skill_3': {'id': 403, 'pp': 15}}, 5: {'pokedex': 216, 'hp': 90, 'happiness': 62.0, 'name': 'BRUCELEELI', 'skill_0': {'id': 230, 'pp': 20}, 'skill_1': {'id': 371, 'pp': 10}, 'skill_2': {'id': 185, 'pp': 20}, 'skill_3': {'id': 163, 'pp': 20}}}\n",
    "\n",
    "# Initialize new dictionary\n",
    "new_dict = {}\n",
    "\n",
    "for key in pokemon_dict:\n",
    "    for skill_key in ['skill_0', 'skill_1', 'skill_2', 'skill_3']:\n",
    "        if pokemon_dict[key][skill_key]['id'] == 206:\n",
    "            if key not in new_dict:\n",
    "                new_dict[key] = {'pokedex': pokemon_dict[key]['pokedex'], 'hp': pokemon_dict[key]['hp'], 'happiness': pokemon_dict[key]['happiness'], 'name': pokemon_dict[key]['name']}\n",
    "            new_dict[key][skill_key] = {'name': 'False Swipe', 'id': 206, 'pp': pokemon_dict[key][skill_key]['pp']}\n",
    "        elif pokemon_dict[key][skill_key]['id'] == 230:\n",
    "            if key not in new_dict:\n",
    "                new_dict[key] = {'pokedex': pokemon_dict[key]['pokedex'], 'hp': pokemon_dict[key]['hp'], 'happiness': pokemon_dict[key]['happiness'], 'name': pokemon_dict[key]['name']}\n",
    "            new_dict[key][skill_key] = {'name': 'Sweet Scent', 'id': 230, 'pp': pokemon_dict[key][skill_key]['pp']}\n",
    "\n",
    "print(new_dict)"
   ]
  },
  {
   "cell_type": "code",
   "execution_count": null,
   "metadata": {},
   "outputs": [],
   "source": [
    "{\n",
    "    'Sweet Scent': {\n",
    "        'pp': 20,\n",
    "        'sprit':5,\n",
    "    },\n",
    "    'False Swipe': {\n",
    "        'pp': 20,\n",
    "        'sprit':0,\n",
    "    }\n",
    "    \n",
    "\n",
    "}"
   ]
  },
  {
   "cell_type": "code",
   "execution_count": 7,
   "metadata": {},
   "outputs": [
    {
     "name": "stdout",
     "output_type": "stream",
     "text": [
      "{'Sweet Scent': {'pp': 20, 'sprite': 5}, 'False Swipe': {'pp': 21, 'sprite': 0}}\n"
     ]
    }
   ],
   "source": [
    "pokemon_dict = {0: {'pokedex': 286, 'hp': 183, 'happiness': 84.0, 'name': 'AYchen', 'skill_0': {'id': 206, 'pp': 21}, 'skill_1': {'id': 402, 'pp': 13}, 'skill_2': {'id': 147, 'pp': 15}, 'skill_3': {'id': 164, 'pp': 10}}, 1: {'pokedex': 64, 'hp': 138, 'happiness': 100.0, 'name': 'Hodson', 'skill_0': {'id': 94, 'pp': 10}, 'skill_1': {'id': 347, 'pp': 20}, 'skill_2': {'id': 100, 'pp': 20}, 'skill_3': {'id': 351, 'pp': 20}}, 2: {'pokedex': 553, 'hp': 223, 'happiness': 100.0, 'name': 'CaptainMarshall\\x00\\t', 'skill_0': {'id': 89, 'pp': 10}, 'skill_1': {'id': 242, 'pp': 15}, 'skill_2': {'id': 444, 'pp': 5}, 'skill_3': {'id': 280, 'pp': 15}}, 3: {'pokedex': 130, 'hp': 158, 'happiness': 100.0, 'name': 'sajasxz\\x00\\t', 'skill_0': {'id': 423, 'pp': 15}, 'skill_1': {'id': 349, 'pp': 20}, 'skill_2': {'id': 242, 'pp': 15}, 'skill_3': {'id': 127, 'pp': 15}}, 4: {'pokedex': 169, 'hp': 174, 'happiness': 55.0, 'name': 'yonyskl\\x00\\t', 'skill_0': {'id': 512, 'pp': 15}, 'skill_1': {'id': 92, 'pp': 10}, 'skill_2': {'id': 440, 'pp': 20}, 'skill_3': {'id': 403, 'pp': 15}}, 5: {'pokedex': 216, 'hp': 90, 'happiness': 62.0, 'name': 'BRUCELEELI', 'skill_0': {'id': 230, 'pp': 20}, 'skill_1': {'id': 371, 'pp': 10}, 'skill_2': {'id': 185, 'pp': 20}, 'skill_3': {'id': 163, 'pp': 20}}}\n",
    "\n",
    "# Initialize new dictionary\n",
    "new_dict = {'Sweet Scent': {}, 'False Swipe': {}}\n",
    "\n",
    "for key in pokemon_dict:\n",
    "    for skill_key in ['skill_0', 'skill_1', 'skill_2', 'skill_3']:\n",
    "        if pokemon_dict[key][skill_key]['id'] == 206:\n",
    "            new_dict['False Swipe'] = {'pp': pokemon_dict[key][skill_key]['pp'], 'sprite': key}\n",
    "        elif pokemon_dict[key][skill_key]['id'] == 230:\n",
    "            new_dict['Sweet Scent'] = {'pp': pokemon_dict[key][skill_key]['pp'], 'sprite': key}\n",
    "\n",
    "print(new_dict)\n"
   ]
  }
 ],
 "metadata": {
  "kernelspec": {
   "display_name": "venv",
   "language": "python",
   "name": "python3"
  },
  "language_info": {
   "codemirror_mode": {
    "name": "ipython",
    "version": 3
   },
   "file_extension": ".py",
   "mimetype": "text/x-python",
   "name": "python",
   "nbconvert_exporter": "python",
   "pygments_lexer": "ipython3",
   "version": "3.11.3"
  },
  "orig_nbformat": 4
 },
 "nbformat": 4,
 "nbformat_minor": 2
}
