{
 "cells": [
  {
   "cell_type": "code",
   "execution_count": 1,
   "metadata": {},
   "outputs": [],
   "source": [
    "import pymem\n",
    "from pymem.pattern import pattern_scan_all\n",
    "\n",
    "\n",
    "\n",
    "target_process = \"javaw.exe\"  # Define the name of the process\n",
    "pm = pymem.Pymem(target_process)"
   ]
  },
  {
   "cell_type": "code",
   "execution_count": 13,
   "metadata": {},
   "outputs": [
    {
     "name": "stdout",
     "output_type": "stream",
     "text": [
      "key is r9+10, value is 41 0F BE 71 10 45\n",
      "[]\n",
      "aob_address r9+10 not found\n",
      "key is r10+10, value is 41 0F BE 72 10 45 0F B6\n",
      "[2476528386132]\n",
      "2476528386132\n",
      "0x2409c984054\n"
     ]
    }
   ],
   "source": [
    "def aob_scan():\n",
    "    # Open a handle to the process\n",
    "\n",
    "    for i in aob_dict:\n",
    "        print(f'key is {i}, value is {aob_dict[i]}')\n",
    "        \n",
    "        aob_address_list = pattern_scan_all(\n",
    "            handle=pm.process_handle, pattern=bytes.fromhex(aob_dict[i]),return_multiple=True\n",
    "        )  # Scan the entire memory of the process for the AOB\n",
    "        print(aob_address_list)\n",
    "        if len(aob_address_list)==1:\n",
    "          return aob_address_list[0]\n",
    "        elif len(aob_address_list)>1:\n",
    "           print(\"aob_address\", i,aob_address_list,'not unique')\n",
    "           continue\n",
    "        else:\n",
    "          print(\"aob_address\", i,'not found')\n",
    "          continue\n",
    "    raise Exception(\"AOB not found\")\n",
    "        \n",
    "\n",
    "aob_dict = {\n",
    "    \"r9+10\": \"41 0F BE 71 10 45\",\n",
    "    \"r10+10\": \"41 0F BE 72 10 45 0F B6\",\n",
    "}\n",
    "aob_address = aob_scan()\n",
    "print(aob_address)  # Print the address where the AOB was found\n",
    "print(hex(aob_address))"
   ]
  },
  {
   "cell_type": "code",
   "execution_count": 61,
   "metadata": {},
   "outputs": [],
   "source": [
    "import struct\n",
    "import time\n",
    "\n",
    "import pymem\n",
    "from pymem.pattern import pattern_scan_all\n",
    "\n",
    "\n",
    "class MemoryInjector:\n",
    "    def __init__(self, target_process):\n",
    "        self.target_process = target_process\n",
    "        self.pm = pymem.Pymem(target_process)\n",
    "        self.aob_dict = {\n",
    "\n",
    "            'r8+10': {'aob':'41 0F BE 48 10 45 0F','offset':0},\n",
    "            \"r9+10\": {'aob':'18 41 0F BE 71 10 45','offset':1},\n",
    "            \"r10+10\": {'aob':'41 0F BE 72 10 45 0F B6','offset':0},\n",
    "\n",
    "            'r11+10': {'aob':'45 0F BE 4B 10 41 0F B6','offset':0},\n",
    "            'r8+10_2': {'aob':'41 0F BE 78 10 45','offset':0},\n",
    "               'r10+10_2': {'aob':'41 0F BE 5A 10','offset':0},         \n",
    "            # Add more keys here as needed\n",
    "        }\n",
    "        # Define byte sequences for lea and movsx instructions\n",
    "        self.lea_dict = {\n",
    "            \"r9+10\": [\"41\", \"8D\", \"41\", \"10\"],\n",
    "            \"r10+10\": [\"41\", \"8D\", \"42\", \"10\"],\n",
    "            'r10+10_2': [\"41\", \"8D\", \"42\", \"10\"],# 都是一样的 _2\n",
    "            'r11+10': [\"41\", \"8D\", \"43\", \"10\"],\n",
    "            'r8+10': [\"41\", \"8D\", \"40\", \"10\"],\n",
    "            'r8+10_2': [\"41\", \"8D\", \"40\", \"10\"]\n",
    "\n",
    "            # Add more keys here as needed\n",
    "        }\n",
    "        self.movsx_dict = {\n",
    "            \"r9+10\": [\"41\", \"0F\", \"BE\", \"71\", \"10\"],\n",
    "            \"r10+10\": [\"41\", \"0F\", \"BE\", \"72\", \"10\"],\n",
    "            'r10+10_2': [\"41\", \"0F\", \"BE\", \"5A\", \"10\"],#这个和特征码一样\n",
    "            'r11+10': [\"45\", \"0F\", \"BE\", \"4B\", \"10\"],\n",
    "            'r8+10': [\"41\", \"0F\", \"BE\", \"48\", \"10\"],\n",
    "            'r8+10_2': [\"41\", \"0F\", \"BE\", \"78\", \"10\"]\n",
    "\n",
    "\n",
    "            # Add more keys here as needed\n",
    "        }\n",
    "        self.real_aob_offset = None\n",
    "        self.aob_address = self.aob_scan()\n",
    "        self.TR = pymem.memory.allocate_memory(self.pm.process_handle, 4)\n",
    "        self.newmem = None\n",
    "        self.jmp_place = b\"\\xE9\"\n",
    "\n",
    "    def aob_scan(self):\n",
    "        for i in self.aob_dict:\n",
    "            aob_address_list = pattern_scan_all(\n",
    "                handle=self.pm.process_handle,\n",
    "                pattern=bytes.fromhex(self.aob_dict[i]['aob']),\n",
    "                return_multiple=True,\n",
    "            )\n",
    "            if len(aob_address_list) == 1:\n",
    "                self.real_aob_offset = i\n",
    "                real_aob_address = aob_address_list[0]+self.aob_dict[i]['offset']\n",
    "                print(f\"AOB Found!!! {i}, value is {self.aob_dict[i]['aob']}\",\"aob_address\", i, real_aob_address)\n",
    "                return real_aob_address\n",
    "            elif len(aob_address_list) > 1:\n",
    "                print(f\"key is {i}, value is {self.aob_dict[i]['aob']}\",\"aob_address\", i, aob_address_list, \"not unique\")\n",
    "                continue\n",
    "            else:\n",
    "                print(f\"key is {i}, value is {self.aob_dict[i]['aob']}\",\"aob_address\", i, \"not found\")\n",
    "                continue\n",
    "        return None\n",
    "\n",
    "    @staticmethod\n",
    "    def format_address(address, length=8):\n",
    "        reversed_bytes = address.to_bytes(length, byteorder=\"little\")\n",
    "        reversed_formatted = \" \".join(f\"{b:02X}\" for b in reversed_bytes)\n",
    "        return reversed_formatted\n",
    "\n",
    "    @staticmethod\n",
    "    def to_signed_32_bit_le(i):\n",
    "        return struct.pack(\"<i\", i)\n",
    "\n",
    "    # Other methods omitted for brevity\n",
    "    @staticmethod\n",
    "    def calculate_jmp_offset(jmp_addr, target_addr):\n",
    "        offset = target_addr - (jmp_addr + 5)\n",
    "        return offset\n",
    "\n",
    "    def create_shellcode(self, offset_1_le):\n",
    "        part_head_combine = (\n",
    "            self.push_rax\n",
    "            + self.lea_eax_rx_x\n",
    "            + self.move_TR_eax\n",
    "            + self.pop_rax\n",
    "            + self.movsx_esi_byte_ptr_rx_x\n",
    "        )\n",
    "        hex_values = (\n",
    "            part_head_combine\n",
    "            + [self.jmp_place]\n",
    "            + list(offset_1_le)  # Convert bytes to list\n",
    "        )\n",
    "        byte_values = []\n",
    "        for hv in hex_values:\n",
    "            if isinstance(hv, str):  # if hv is a hex string\n",
    "                byte_values.append(int(hv, 16))\n",
    "            elif isinstance(hv, bytes):  # if hv is a byte object\n",
    "                byte_values.append(int.from_bytes(hv, \"little\"))\n",
    "            else:  # Assume it's an integer in the list of bytes\n",
    "                byte_values.append(hv)\n",
    "\n",
    "        return bytes(byte_values)\n",
    "\n",
    "    def inject_memory(self):\n",
    "        # Existing code before this...\n",
    "        self.TR_address_reversed_formatted = self.format_address(self.TR)\n",
    "        # Add your specific offsets here\n",
    "        lea_eax_rx_x = self.lea_dict[self.real_aob_offset]\n",
    "        movsx_esi_byte_ptr_rx_x = self.movsx_dict[self.real_aob_offset]\n",
    "        push_rax = [\"50\"]\n",
    "        move_TR_eax = [\"A3\"] + list(self.TR_address_reversed_formatted.split(\" \"))\n",
    "        pop_rax = [\"58\"]\n",
    "        jmp_place = [\"E9\"]\n",
    "        part_head_combine = push_rax + lea_eax_rx_x + move_TR_eax + pop_rax + movsx_esi_byte_ptr_rx_x\n",
    "        shell_code_len = len(part_head_combine) + 1 + 4\n",
    "\n",
    "        # Allocate new memory\n",
    "        self.newmem = pymem.memory.allocate_memory(\n",
    "            self.pm.process_handle, shell_code_len\n",
    "        )\n",
    "\n",
    "        # Calculate jmp offset 1 (newmem to aob_address)\n",
    "        jmp_addr_1 = len(part_head_combine)+self.newmem\n",
    "        target_addr_1 = self.aob_address+5\n",
    "        offset_1 = self.calculate_jmp_offset(jmp_addr_1, target_addr_1)\n",
    "        print('offset_1',offset_1)\n",
    "        offset_1_le = self.to_signed_32_bit_le(offset_1)\n",
    "        print('offset_1_le',offset_1_le)\n",
    "\n",
    "        # Create shell code\n",
    "        hex_values = (\n",
    "            part_head_combine\n",
    "            + jmp_place\n",
    "            + [offset_1_le[0:1],offset_1_le[1:2],offset_1_le[2:3],offset_1_le[3:4]]\n",
    "        )\n",
    "        print('newmem hex_values',hex_values)\n",
    "        inject_hex_shellcode = self.convert_hex_values_to_bytes(hex_values)\n",
    "\n",
    "        # Write shell code to new memory\n",
    "        result1 = self.pm.write_bytes(self.newmem, inject_hex_shellcode, len(inject_hex_shellcode))\n",
    "\n",
    "        # Calculate jmp offset 2 (aob_address to newmem)\n",
    "        jmp_addr_2 = self.aob_address\n",
    "        target_addr_2 = self.newmem\n",
    "        offset_2 = self.calculate_jmp_offset(jmp_addr_2, target_addr_2)\n",
    "        offset_2_le = self.to_signed_32_bit_le(offset_2)\n",
    "\n",
    "        # Create JMP shell code to inject into aob_address\n",
    "        inject_hex = jmp_place + [offset_2_le[0:1],offset_2_le[1:2],offset_2_le[2:3],offset_2_le[3:4]]\n",
    "        inject_hex_shellcode = self.convert_hex_values_to_bytes(inject_hex)\n",
    "\n",
    "        # Write JMP to aob_address\n",
    "        result2 = self.pm.write_bytes(self.aob_address, inject_hex_shellcode, len(inject_hex_shellcode))\n",
    "\n",
    "        return result1, result2\n",
    "\n",
    "    def convert_hex_values_to_bytes(self, hex_values):\n",
    "        byte_values = []\n",
    "        for hv in hex_values:\n",
    "            if isinstance(hv, str):  # if hv is a hex string\n",
    "                byte_values.append(int(hv, 16))\n",
    "            elif isinstance(hv, bytes):  # if hv is a byte object\n",
    "                byte_values.append(int.from_bytes(hv, \"little\"))\n",
    "        return bytes(byte_values)\n",
    "    \n",
    "    def read_data(self):\n",
    "        while True:\n",
    "            data = self.pm.read_bytes(self.TR, 4)\n",
    "            print(data)\n",
    "            value = int.from_bytes(data, byteorder=\"little\")\n",
    "            print(value)\n",
    "            x_address = value - 4\n",
    "\n",
    "            data = self.pm.read_bytes(x_address, 10)\n",
    "            print('x_y_map_direction',data)\n",
    "\n",
    "            # Convert the first 2 bytes to an integer\n",
    "            x_coords = int.from_bytes(data[:2], byteorder='little')  # Use 'big' if the byteorder is big endian\n",
    "\n",
    "            print('x_coords',x_coords)\n",
    "\n",
    "            # Convert the first 2 bytes to an integer\n",
    "            y_coords = int.from_bytes(data[2:4], byteorder='little')  # Use 'big' if the byteorder is big endian\n",
    "\n",
    "            print('y_coords',y_coords)\n",
    "\n",
    "            map_number = int.from_bytes(data[4:6], byteorder='little')  # Use 'big' if the byteorder is big endian\n",
    "            print('map_number',map_number)  # Output: 12081\n",
    "\n",
    "            face_dir = hex(data[9])[-1]\n",
    "            print('face_dir',face_dir)\n",
    "\n",
    "            time.sleep(1)\n",
    "\n",
    "\n"
   ]
  },
  {
   "cell_type": "code",
   "execution_count": 56,
   "metadata": {},
   "outputs": [
    {
     "name": "stdout",
     "output_type": "stream",
     "text": [
      "key is r8+10, value is 41 0F BE 48 10 45 0F aob_address r8+10 not found\n",
      "key is r9+10, value is 18 41 0F BE 71 10 45 aob_address r9+10 not found\n",
      "key is r10+10, value is 41 0F BE 72 10 45 0F B6 aob_address r10+10 not found\n",
      "key is r11+10, value is 45 0F BE 4B 10 41 0F B6 aob_address r11+10 not found\n",
      "key is r8+10_2, value is 41 0F BE 78 10 45 aob_address r8+10_2 not found\n",
      "AOB Found!!! r10+10_2, value is 41 0F BE 5A 10 aob_address r10+10_2 3079748231508\n"
     ]
    }
   ],
   "source": [
    "injector = MemoryInjector(\"javaw.exe\")"
   ]
  },
  {
   "cell_type": "code",
   "execution_count": 57,
   "metadata": {},
   "outputs": [
    {
     "name": "stdout",
     "output_type": "stream",
     "text": [
      "injector.aob_address 3079748231508 0x2cd0f4ca154\n",
      "TR address 3080139046912 0x2cd26980000\n"
     ]
    }
   ],
   "source": [
    "print('injector.aob_address',injector.aob_address,hex(injector.aob_address))\n",
    "print('TR address',injector.TR,hex(injector.TR))"
   ]
  },
  {
   "cell_type": "code",
   "execution_count": 58,
   "metadata": {},
   "outputs": [
    {
     "name": "stdout",
     "output_type": "stream",
     "text": [
      "offset_1 -390880960\n",
      "offset_1_le b'@\\xa1\\xb3\\xe8'\n",
      "newmem hex_values ['50', '41', '8D', '42', '10', 'A3', '00', '00', '98', '26', 'CD', '02', '00', '00', '58', '41', '0F', 'BE', '5A', '10', 'E9', b'@', b'\\xa1', b'\\xb3', b'\\xe8']\n"
     ]
    },
    {
     "data": {
      "text/plain": [
       "(None, None)"
      ]
     },
     "execution_count": 58,
     "metadata": {},
     "output_type": "execute_result"
    }
   ],
   "source": [
    "injector.inject_memory()"
   ]
  },
  {
   "cell_type": "code",
   "execution_count": 59,
   "metadata": {},
   "outputs": [
    {
     "name": "stdout",
     "output_type": "stream",
     "text": [
      "injector.newmem 3080139112448 0x2cd26990000\n"
     ]
    }
   ],
   "source": [
    "print('injector.newmem',injector.newmem,hex(injector.newmem))"
   ]
  },
  {
   "cell_type": "code",
   "execution_count": 60,
   "metadata": {},
   "outputs": [
    {
     "name": "stdout",
     "output_type": "stream",
     "text": [
      "b'\\x00x\\x80\\xf4'\n",
      "4102060032\n",
      "x_y_map_direction b'\\x06\\x00\\r\\x00\\x012\\x0b\\x00\\x02\\x00'\n",
      "x_coords 6\n",
      "y_coords 13\n",
      "map_number 12801\n"
     ]
    },
    {
     "ename": "TypeError",
     "evalue": "'int' object is not subscriptable",
     "output_type": "error",
     "traceback": [
      "\u001b[1;31m---------------------------------------------------------------------------\u001b[0m",
      "\u001b[1;31mTypeError\u001b[0m                                 Traceback (most recent call last)",
      "Cell \u001b[1;32mIn[60], line 1\u001b[0m\n\u001b[1;32m----> 1\u001b[0m injector\u001b[39m.\u001b[39;49mread_data()\n",
      "Cell \u001b[1;32mIn[55], line 197\u001b[0m, in \u001b[0;36mMemoryInjector.read_data\u001b[1;34m(self)\u001b[0m\n\u001b[0;32m    194\u001b[0m map_number \u001b[39m=\u001b[39m \u001b[39mint\u001b[39m\u001b[39m.\u001b[39mfrom_bytes(data[\u001b[39m4\u001b[39m:\u001b[39m6\u001b[39m], byteorder\u001b[39m=\u001b[39m\u001b[39m'\u001b[39m\u001b[39mlittle\u001b[39m\u001b[39m'\u001b[39m)  \u001b[39m# Use 'big' if the byteorder is big endian\u001b[39;00m\n\u001b[0;32m    195\u001b[0m \u001b[39mprint\u001b[39m(\u001b[39m'\u001b[39m\u001b[39mmap_number\u001b[39m\u001b[39m'\u001b[39m,map_number)  \u001b[39m# Output: 12081\u001b[39;00m\n\u001b[1;32m--> 197\u001b[0m face_dir \u001b[39m=\u001b[39m \u001b[39mhex\u001b[39m(data[\u001b[39m9\u001b[39;49m][\u001b[39m-\u001b[39;49m\u001b[39m1\u001b[39;49m])\n\u001b[0;32m    198\u001b[0m \u001b[39mprint\u001b[39m(\u001b[39m'\u001b[39m\u001b[39mface_dir\u001b[39m\u001b[39m'\u001b[39m,face_dir)\n\u001b[0;32m    200\u001b[0m time\u001b[39m.\u001b[39msleep(\u001b[39m1\u001b[39m)\n",
      "\u001b[1;31mTypeError\u001b[0m: 'int' object is not subscriptable"
     ]
    }
   ],
   "source": [
    "\n",
    "injector.read_data()"
   ]
  }
 ],
 "metadata": {
  "kernelspec": {
   "display_name": "venv",
   "language": "python",
   "name": "python3"
  },
  "language_info": {
   "codemirror_mode": {
    "name": "ipython",
    "version": 3
   },
   "file_extension": ".py",
   "mimetype": "text/x-python",
   "name": "python",
   "nbconvert_exporter": "python",
   "pygments_lexer": "ipython3",
   "version": "3.11.3"
  },
  "orig_nbformat": 4
 },
 "nbformat": 4,
 "nbformat_minor": 2
}
