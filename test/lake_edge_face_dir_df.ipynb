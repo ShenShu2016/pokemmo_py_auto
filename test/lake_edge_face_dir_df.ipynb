{
 "cells": [
  {
   "cell_type": "code",
   "execution_count": 1,
   "metadata": {},
   "outputs": [],
   "source": [
    "import pandas as pd\n",
    "\n",
    "# Read the CSV file\n",
    "df = pd.read_csv(r'C:\\Users\\SS\\Documents\\GitHub\\pokemmo_py_auto\\asserts\\coords_tracking\\SOOTOPOLIS_CITY_coords_tracking.csv')\n",
    "\n",
    "# Filter the data frame where 'mark' is 3 (湖边)\n",
    "lake_edge_df = df[df['mark'] == 3]\n"
   ]
  },
  {
   "cell_type": "code",
   "execution_count": 18,
   "metadata": {},
   "outputs": [],
   "source": [
    "def determine_face_dir(df, row):\n",
    "    # Look around the point in four directions\n",
    "    directions = [(0, -1, 1), (0, 1, 0), (-1, 0, 2), (1, 0, 3)]  # (dx, dy, face_dir)\n",
    "    for dx, dy, face_dir in directions:\n",
    "        # If there is a lake in the direction, return the direction\n",
    "        if df[(df['x_coords'] == row['x_coords'] + dx) & (df['y_coords'] == row['y_coords'] + dy) & (df['mark'].isin([1, 2]))].size > 0:\n",
    "            return face_dir\n",
    "    return None  # Return None if no lake is around\n",
    "\n",
    "lake_edge_df = df[df['mark'] == 3].copy()  # Create a copy of the filtered DataFrame\n",
    "lake_edge_df.loc[:, 'face_dir'] = lake_edge_df.apply(lambda row: determine_face_dir(df, row), axis=1)\n"
   ]
  },
  {
   "cell_type": "code",
   "execution_count": 19,
   "metadata": {},
   "outputs": [],
   "source": [
    "result = list(lake_edge_df[['y_coords', 'x_coords', 'face_dir']].itertuples(index=False, name=None))\n"
   ]
  },
  {
   "cell_type": "code",
   "execution_count": 20,
   "metadata": {},
   "outputs": [
    {
     "data": {
      "text/plain": [
       "[(37, 40, 2),\n",
       " (38, 40, 2),\n",
       " (39, 40, 0),\n",
       " (39, 41, 0),\n",
       " (40, 42, 2),\n",
       " (41, 42, 2),\n",
       " (42, 42, 0),\n",
       " (42, 43, 0),\n",
       " (42, 44, 0),\n",
       " (43, 45, 2),\n",
       " (44, 45, 2),\n",
       " (45, 45, 0),\n",
       " (45, 46, 0),\n",
       " (45, 47, 0),\n",
       " (45, 48, 0)]"
      ]
     },
     "execution_count": 20,
     "metadata": {},
     "output_type": "execute_result"
    }
   ],
   "source": [
    "result"
   ]
  }
 ],
 "metadata": {
  "kernelspec": {
   "display_name": "venv",
   "language": "python",
   "name": "python3"
  },
  "language_info": {
   "codemirror_mode": {
    "name": "ipython",
    "version": 3
   },
   "file_extension": ".py",
   "mimetype": "text/x-python",
   "name": "python",
   "nbconvert_exporter": "python",
   "pygments_lexer": "ipython3",
   "version": "3.11.3"
  },
  "orig_nbformat": 4
 },
 "nbformat": 4,
 "nbformat_minor": 2
}
