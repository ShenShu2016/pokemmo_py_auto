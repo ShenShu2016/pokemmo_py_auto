{
 "cells": [
  {
   "attachments": {},
   "cell_type": "markdown",
   "metadata": {},
   "source": [
    "**特征码41 0F BE 72 10找到 地址  大概是这种东西  13EED4A1054 - 41 0FBE 72 10         - movsx esi,byte ptr [r10+10]"
   ]
  },
  {
   "cell_type": "code",
   "execution_count": 209,
   "metadata": {},
   "outputs": [
    {
     "name": "stdout",
     "output_type": "stream",
     "text": [
      "1996898335956\n",
      "0x1d0f06a7cd4\n"
     ]
    }
   ],
   "source": [
    "import pymem\n",
    "from pymem.pattern import pattern_scan_all\n",
    "\n",
    "\n",
    "def aob_injection(process, aob):\n",
    "    pm = pymem.Pymem(process)  # Open a handle to the process\n",
    "    aob_address = pattern_scan_all(\n",
    "        pm.process_handle, aob\n",
    "    )  # Scan the entire memory of the process for the AOB\n",
    "    print(aob_address)  # Print the address where the AOB was found\n",
    "    print(hex(aob_address))\n",
    "\n",
    "    return aob_address\n",
    "\n",
    "\n",
    "#aob = bytes.fromhex(\"41 0F BE 71 10 45\")  # Define the AOB r9+10\n",
    "aob = bytes.fromhex(\"41 0F BE 72 10 45 0F\")  # Define the AOB r10+10\n",
    "aob_address=aob_injection(\n",
    "    \"javaw.exe\", aob\n",
    ")  # Call the function with the name of the process and the AOB\n",
    "#打印出来的地址需要变成jmp"
   ]
  },
  {
   "attachments": {},
   "cell_type": "markdown",
   "metadata": {},
   "source": [
    "开辟空间 叫他TR"
   ]
  },
  {
   "cell_type": "code",
   "execution_count": 210,
   "metadata": {},
   "outputs": [
    {
     "name": "stdout",
     "output_type": "stream",
     "text": [
      "1995211472896\n",
      "0x1d08bdf0000\n"
     ]
    }
   ],
   "source": [
    "pm = pymem.Pymem(\"javaw.exe\")\n",
    "TR = pymem.memory.allocate_memory(pm.process_handle, 4)\n",
    "print(TR)\n",
    "print(hex(TR))"
   ]
  },
  {
   "cell_type": "code",
   "execution_count": 211,
   "metadata": {},
   "outputs": [
    {
     "name": "stdout",
     "output_type": "stream",
     "text": [
      "00 00 DF 8B D0 01 00 00\n"
     ]
    }
   ],
   "source": [
    "def format_address(address, length=8):\n",
    "    reversed_bytes = address.to_bytes(length, byteorder='little')\n",
    "    reversed_formatted = ' '.join(f'{b:02X}' for b in reversed_bytes)\n",
    "    return reversed_formatted\n",
    "\n",
    "#print(format_address(0x1CA99861000))\n",
    "TR_address_reversed_formatted=format_address(TR)\n",
    "print(TR_address_reversed_formatted)\n"
   ]
  },
  {
   "cell_type": "code",
   "execution_count": 212,
   "metadata": {},
   "outputs": [],
   "source": [
    "push_rax=['50']\n",
    "#lea_eax_rx_x=['41','8D','41','10']# r9+10\n",
    "lea_eax_rx_x=['41','8D','42','10']# r10+10\n",
    "move_TR_eax=['A3']+TR_address_reversed_formatted.split(' ')# [TR],EAX\n",
    "pop_rax=['58']\n",
    "#movsx_esi_byte_ptr_rx_x=['41','0F' ,'BE', '71', '10']\n",
    "movsx_esi_byte_ptr_rx_x=['41','0F' ,'BE', '72', '10']\n"
   ]
  },
  {
   "cell_type": "code",
   "execution_count": 213,
   "metadata": {},
   "outputs": [
    {
     "data": {
      "text/plain": [
       "25"
      ]
     },
     "execution_count": 213,
     "metadata": {},
     "output_type": "execute_result"
    }
   ],
   "source": [
    "len('50 41 8D 41 10 A3 00 10 86 99 CA 01 00 00 58 41 0F BE 71 10 E9 40 52 AC OB'.split(' '))\n",
    "#'50 41 8D 41 10 A3 00 10 86 99 CA 01 00 00 58 41 0F BE 71 10 E9 40 52 AC OB'.split(' ')"
   ]
  },
  {
   "cell_type": "code",
   "execution_count": 214,
   "metadata": {},
   "outputs": [
    {
     "name": "stdout",
     "output_type": "stream",
     "text": [
      "len part_head_combine 20\n",
      "['50', '41', '8D', '42', '10', 'A3', '00', '00', 'DF', '8B', 'D0', '01', '00', '00', '58', '41', '0F', 'BE', '72', '10']\n"
     ]
    }
   ],
   "source": [
    "part_head_combine= push_rax+lea_eax_rx_x+move_TR_eax+pop_rax+movsx_esi_byte_ptr_rx_x\n",
    "part_head_combine\n",
    "print('len part_head_combine',len(part_head_combine))\n",
    "print(part_head_combine)\n",
    "jmp_place=['E9']"
   ]
  },
  {
   "cell_type": "code",
   "execution_count": 215,
   "metadata": {},
   "outputs": [
    {
     "name": "stdout",
     "output_type": "stream",
     "text": [
      "shell_code_len 25\n"
     ]
    }
   ],
   "source": [
    "shell_code_len=len(part_head_combine)+1+4\n",
    "print('shell_code_len',shell_code_len)"
   ]
  },
  {
   "cell_type": "code",
   "execution_count": 216,
   "metadata": {},
   "outputs": [],
   "source": [
    "# Allocate new memory\n",
    "newmem = pymem.memory.allocate_memory(pm.process_handle, shell_code_len)"
   ]
  },
  {
   "cell_type": "code",
   "execution_count": 217,
   "metadata": {},
   "outputs": [
    {
     "name": "stdout",
     "output_type": "stream",
     "text": [
      "1995211407360\n",
      "0x1d08bde0000\n"
     ]
    }
   ],
   "source": [
    "print(newmem)\n",
    "print(hex(newmem))"
   ]
  },
  {
   "cell_type": "code",
   "execution_count": 218,
   "metadata": {},
   "outputs": [
    {
     "data": {
      "text/plain": [
       "'0x1d08bde0014'"
      ]
     },
     "execution_count": 218,
     "metadata": {},
     "output_type": "execute_result"
    }
   ],
   "source": [
    "newmen_end_row_address_jmp=hex(len(part_head_combine)+newmem)\n",
    "newmen_end_row_address_jmp"
   ]
  },
  {
   "cell_type": "code",
   "execution_count": 219,
   "metadata": {},
   "outputs": [],
   "source": [
    "import struct\n",
    "\n",
    "def calculate_jmp_offset(jmp_addr, target_addr):\n",
    "    offset = target_addr - (jmp_addr + 5)\n",
    "    return offset\n",
    "\n",
    "def to_signed_32_bit_le(i):\n",
    "    return struct.pack('<i', i)"
   ]
  },
  {
   "cell_type": "code",
   "execution_count": 220,
   "metadata": {},
   "outputs": [
    {
     "name": "stdout",
     "output_type": "stream",
     "text": [
      "jmp_addr_1 1995211407380\n",
      "target_addr_1 1996898335961\n",
      "0x1d0f06a7cd9\n",
      "offset_1 1995211407380 1996898335961\n",
      "offset_1 1686928576\n",
      "offset_1_le b'\\xc0|\\x8cd'\n",
      "jmp_addr_2 1996898335956 0x1d0f06a7cd4\n",
      "target_addr_2 1995211407360 0x1d08bde0000\n",
      "2783739b\n"
     ]
    }
   ],
   "source": [
    "# 先算 newmen中jmp 的偏移量\n",
    "jmp_addr_1=int(newmen_end_row_address_jmp,16)  #多数以14结尾\n",
    "print('jmp_addr_1',jmp_addr_1)\n",
    "target_addr_1=aob_address+5\n",
    "print('target_addr_1',target_addr_1)\n",
    "print(hex(target_addr_1))\n",
    "print('offset_1',jmp_addr_1, target_addr_1)\n",
    "offset_1 = calculate_jmp_offset(jmp_addr_1, target_addr_1)\n",
    "print('offset_1',offset_1)\n",
    "offset_1_le = to_signed_32_bit_le(offset_1)\n",
    "print('offset_1_le',offset_1_le)\n",
    "\n",
    "# offset_2_le 是从 aob_address 跳到 newmen 的偏移量 A开头\n",
    "jmp_addr_2=aob_address  # aob address\n",
    "print('jmp_addr_2',jmp_addr_2,hex(jmp_addr_2))\n",
    "target_addr_2=newmem\n",
    "print('target_addr_2',target_addr_2,hex(target_addr_2))\n",
    "offset_2 = calculate_jmp_offset(jmp_addr_2, target_addr_2)\n",
    "# Convert to signed 32-bit little endian format\n",
    "offset_2_le = to_signed_32_bit_le(offset_2)\n",
    "# Print the offset in hexadecimal\n",
    "print(offset_2_le.hex())\n"
   ]
  },
  {
   "cell_type": "code",
   "execution_count": 221,
   "metadata": {},
   "outputs": [
    {
     "data": {
      "text/plain": [
       "['50',\n",
       " '41',\n",
       " '8D',\n",
       " '42',\n",
       " '10',\n",
       " 'A3',\n",
       " '00',\n",
       " '00',\n",
       " 'DF',\n",
       " '8B',\n",
       " 'D0',\n",
       " '01',\n",
       " '00',\n",
       " '00',\n",
       " '58',\n",
       " '41',\n",
       " '0F',\n",
       " 'BE',\n",
       " '72',\n",
       " '10',\n",
       " 'E9',\n",
       " b'\\xc0',\n",
       " b'|',\n",
       " b'\\x8c',\n",
       " b'd']"
      ]
     },
     "execution_count": 221,
     "metadata": {},
     "output_type": "execute_result"
    }
   ],
   "source": [
    "hex_values=part_head_combine+jmp_place+[offset_1_le[0:1],offset_1_le[1:2],offset_1_le[2:3],offset_1_le[3:4]]\n",
    "hex_values"
   ]
  },
  {
   "cell_type": "code",
   "execution_count": 222,
   "metadata": {},
   "outputs": [
    {
     "name": "stdout",
     "output_type": "stream",
     "text": [
      "b'PA\\x8dB\\x10\\xa3\\x00\\x00\\xdf\\x8b\\xd0\\x01\\x00\\x00XA\\x0f\\xber\\x10\\xe9\\xc0|\\x8cd'\n"
     ]
    }
   ],
   "source": [
    "#hex_string = \"50 41 8D 41 10 A3 00 00 10 88 CA 01 00 00 58 41 0F BE 71 10 E9 40 52 AC 0B\"\n",
    "#hex_values = hex_string.split()  # split the string into a list of two-character strings\n",
    "hex_values=part_head_combine+jmp_place+[offset_1_le[0:1],offset_1_le[1:2],offset_1_le[2:3],offset_1_le[3:4]]\n",
    "byte_values = []\n",
    "for hv in hex_values:\n",
    "    if isinstance(hv, str):  # if hv is a hex string\n",
    "        byte_values.append(int(hv, 16))\n",
    "    elif isinstance(hv, bytes):  # if hv is a byte object\n",
    "        byte_values.append(int.from_bytes(hv, 'little'))  # or 'big' if your data is big-endian\n",
    "shellcode = bytes(byte_values)\n",
    "print(shellcode)\n"
   ]
  },
  {
   "attachments": {},
   "cell_type": "markdown",
   "metadata": {},
   "source": [
    "先要创造shellcode 然后再写入"
   ]
  },
  {
   "cell_type": "code",
   "execution_count": 223,
   "metadata": {},
   "outputs": [
    {
     "data": {
      "text/plain": [
       "'0x1d08bde0000'"
      ]
     },
     "execution_count": 223,
     "metadata": {},
     "output_type": "execute_result"
    }
   ],
   "source": [
    "hex(newmem)"
   ]
  },
  {
   "cell_type": "code",
   "execution_count": 224,
   "metadata": {},
   "outputs": [],
   "source": [
    "result1=pm.write_bytes(newmem, shellcode, len(shellcode))"
   ]
  },
  {
   "cell_type": "code",
   "execution_count": 225,
   "metadata": {},
   "outputs": [
    {
     "name": "stdout",
     "output_type": "stream",
     "text": [
      "['E9', b\"'\", b'\\x83', b's', b'\\x9b']\n",
      "b\"\\xe9'\\x83s\\x9b\"\n"
     ]
    }
   ],
   "source": [
    "#现在要去aob address jmp 到newmen\n",
    "inject_hex = ['E9']+[offset_2_le[0:1],offset_2_le[1:2],offset_2_le[2:3],offset_2_le[3:4]]\n",
    "print(inject_hex)\n",
    "byte_values = []\n",
    "for hv in inject_hex:\n",
    "    if isinstance(hv, str):  # if hv is a hex string\n",
    "        byte_values.append(int(hv, 16))\n",
    "    elif isinstance(hv, bytes):  # if hv is a byte object\n",
    "        byte_values.append(int.from_bytes(hv, 'little'))  # or 'big' if your data is big-endian\n",
    "inject_hex_shellcode = bytes(byte_values)\n",
    "print(inject_hex_shellcode)"
   ]
  },
  {
   "cell_type": "code",
   "execution_count": 226,
   "metadata": {},
   "outputs": [
    {
     "data": {
      "text/plain": [
       "['E9', b\"'\", b'\\x83', b's', b'\\x9b']"
      ]
     },
     "execution_count": 226,
     "metadata": {},
     "output_type": "execute_result"
    }
   ],
   "source": [
    "inject_hex"
   ]
  },
  {
   "cell_type": "code",
   "execution_count": 227,
   "metadata": {},
   "outputs": [
    {
     "name": "stdout",
     "output_type": "stream",
     "text": [
      "aob_address 1996898335956 0x1d0f06a7cd4\n"
     ]
    }
   ],
   "source": [
    "print('aob_address',aob_address,hex(aob_address))"
   ]
  },
  {
   "cell_type": "code",
   "execution_count": 228,
   "metadata": {},
   "outputs": [
    {
     "name": "stdout",
     "output_type": "stream",
     "text": [
      "b\"\\xe9'\\x83s\\x9b\"\n"
     ]
    }
   ],
   "source": [
    "len(inject_hex_shellcode)\n",
    "print(inject_hex_shellcode)"
   ]
  },
  {
   "cell_type": "code",
   "execution_count": 229,
   "metadata": {},
   "outputs": [
    {
     "data": {
      "text/plain": [
       "b\"\\xe9'\\x83s\\x9b\""
      ]
     },
     "execution_count": 229,
     "metadata": {},
     "output_type": "execute_result"
    }
   ],
   "source": [
    "inject_hex_shellcode"
   ]
  },
  {
   "cell_type": "code",
   "execution_count": 230,
   "metadata": {},
   "outputs": [
    {
     "name": "stdout",
     "output_type": "stream",
     "text": [
      "1996898335956 b\"\\xe9'\\x83s\\x9b\" 5\n"
     ]
    }
   ],
   "source": [
    "print(aob_address, inject_hex_shellcode, len(inject_hex_shellcode))"
   ]
  },
  {
   "cell_type": "code",
   "execution_count": 231,
   "metadata": {},
   "outputs": [
    {
     "name": "stdout",
     "output_type": "stream",
     "text": [
      "None\n"
     ]
    }
   ],
   "source": [
    "result2=pm.write_bytes(aob_address, inject_hex_shellcode, len(inject_hex_shellcode))\n",
    "print(result2)"
   ]
  },
  {
   "cell_type": "code",
   "execution_count": 232,
   "metadata": {},
   "outputs": [
    {
     "data": {
      "text/plain": [
       "'0x1d08bdf0000'"
      ]
     },
     "execution_count": 232,
     "metadata": {},
     "output_type": "execute_result"
    }
   ],
   "source": [
    "hex(TR)"
   ]
  },
  {
   "cell_type": "code",
   "execution_count": 234,
   "metadata": {},
   "outputs": [
    {
     "name": "stdout",
     "output_type": "stream",
     "text": [
      "b'\\xf0\\x90\\xce\\xea'\n",
      "3939406064\n"
     ]
    }
   ],
   "source": [
    "import pymem\n",
    "\n",
    "# Initialize pymem\n",
    "pm = pymem.Pymem('javaw.exe')  # Replace 'YourProcessName.exe' with the name of your process\n",
    "\n",
    "# Define the memory address\n",
    "address = TR\n",
    "\n",
    "# Read bytes from the memory\n",
    "# Assuming you want to read 4 bytes (an integer) at that address\n",
    "data = pm.read_bytes(address, 4)\n",
    "print(data)\n",
    "\n",
    "# Convert the bytes to an integer\n",
    "value = int.from_bytes(data, byteorder='little')  # Use 'big' if the byteorder is big endian\n",
    "\n",
    "print(value)\n"
   ]
  },
  {
   "cell_type": "code",
   "execution_count": 280,
   "metadata": {},
   "outputs": [],
   "source": [
    "data = pm.read_bytes(3939406064-4, 10)"
   ]
  },
  {
   "cell_type": "code",
   "execution_count": 272,
   "metadata": {},
   "outputs": [
    {
     "data": {
      "text/plain": [
       "b'\\x06\\x00\\r\\x00\\x012\\x0b\\x00\\x02\\x03'"
      ]
     },
     "execution_count": 272,
     "metadata": {},
     "output_type": "execute_result"
    }
   ],
   "source": [
    "data"
   ]
  },
  {
   "cell_type": "code",
   "execution_count": 267,
   "metadata": {},
   "outputs": [
    {
     "name": "stdout",
     "output_type": "stream",
     "text": [
      "6\n"
     ]
    }
   ],
   "source": [
    "# Convert the first 2 bytes to an integer\n",
    "value = int.from_bytes(data[:2], byteorder='little')  # Use 'big' if the byteorder is big endian\n",
    "\n",
    "print(value)  # Output: 12081"
   ]
  },
  {
   "cell_type": "code",
   "execution_count": 268,
   "metadata": {},
   "outputs": [
    {
     "name": "stdout",
     "output_type": "stream",
     "text": [
      "13\n"
     ]
    }
   ],
   "source": [
    "# Convert the first 2 bytes to an integer\n",
    "value = int.from_bytes(data[2:4], byteorder='little')  # Use 'big' if the byteorder is big endian\n",
    "\n",
    "print(value)  # Output: 12081"
   ]
  },
  {
   "cell_type": "code",
   "execution_count": 269,
   "metadata": {},
   "outputs": [
    {
     "name": "stdout",
     "output_type": "stream",
     "text": [
      "12801\n"
     ]
    }
   ],
   "source": [
    "value = int.from_bytes(data[4:6], byteorder='little')  # Use 'big' if the byteorder is big endian\n",
    "print(value)  # Output: 12081"
   ]
  },
  {
   "cell_type": "code",
   "execution_count": 273,
   "metadata": {},
   "outputs": [
    {
     "name": "stdout",
     "output_type": "stream",
     "text": [
      "770\n"
     ]
    }
   ],
   "source": [
    "value = int.from_bytes(data[8:], byteorder='little')  # Use 'big' if the byteorder is big endian\n",
    "print(value)  # Output: 770"
   ]
  },
  {
   "cell_type": "code",
   "execution_count": 281,
   "metadata": {},
   "outputs": [
    {
     "data": {
      "text/plain": [
       "'0x3'"
      ]
     },
     "execution_count": 281,
     "metadata": {},
     "output_type": "execute_result"
    }
   ],
   "source": [
    "hex_value = hex(data[9])\n",
    "hex_value[-3] #3 right,0 down"
   ]
  }
 ],
 "metadata": {
  "kernelspec": {
   "display_name": "venv",
   "language": "python",
   "name": "python3"
  },
  "language_info": {
   "codemirror_mode": {
    "name": "ipython",
    "version": 3
   },
   "file_extension": ".py",
   "mimetype": "text/x-python",
   "name": "python",
   "nbconvert_exporter": "python",
   "pygments_lexer": "ipython3",
   "version": "3.11.3"
  },
  "orig_nbformat": 4
 },
 "nbformat": 4,
 "nbformat_minor": 2
}
