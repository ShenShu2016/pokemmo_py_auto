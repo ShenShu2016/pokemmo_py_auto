{
 "cells": [
  {
   "attachments": {},
   "cell_type": "markdown",
   "metadata": {},
   "source": [
    "**特征码41 0F BE 72 10找到 地址  大概是这种东西  13EED4A1054 - 41 0FBE 72 10         - movsx esi,byte ptr [r10+10]"
   ]
  },
  {
   "cell_type": "code",
   "execution_count": 209,
   "metadata": {},
   "outputs": [
    {
     "name": "stdout",
     "output_type": "stream",
     "text": [
      "1996898335956\n",
      "0x1d0f06a7cd4\n"
     ]
    }
   ],
   "source": [
    "import pymem\n",
    "from pymem.pattern import pattern_scan_all\n",
    "\n",
    "\n",
    "def aob_injection(process, aob):\n",
    "    pm = pymem.Pymem(process)  # Open a handle to the process\n",
    "    aob_address = pattern_scan_all(\n",
    "        pm.process_handle, aob\n",
    "    )  # Scan the entire memory of the process for the AOB\n",
    "    print(aob_address)  # Print the address where the AOB was found\n",
    "    print(hex(aob_address))\n",
    "\n",
    "    return aob_address\n",
    "\n",
    "\n",
    "#aob = bytes.fromhex(\"41 0F BE 71 10 45\")  # Define the AOB r9+10\n",
    "aob = bytes.fromhex(\"41 0F BE 72 10 45 0F\")  # Define the AOB r10+10\n",
    "aob_address=aob_injection(\n",
    "    \"javaw.exe\", aob\n",
    ")  # Call the function with the name of the process and the AOB\n",
    "#打印出来的地址需要变成jmp"
   ]
  },
  {
   "attachments": {},
   "cell_type": "markdown",
   "metadata": {},
   "source": [
    "开辟空间 叫他TR"
   ]
  },
  {
   "cell_type": "code",
   "execution_count": 210,
   "metadata": {},
   "outputs": [
    {
     "name": "stdout",
     "output_type": "stream",
     "text": [
      "1995211472896\n",
      "0x1d08bdf0000\n"
     ]
    }
   ],
   "source": [
    "pm = pymem.Pymem(\"javaw.exe\")\n",
    "TR = pymem.memory.allocate_memory(pm.process_handle, 4)\n",
    "print(TR)\n",
    "print(hex(TR))"
   ]
  },
  {
   "cell_type": "code",
   "execution_count": 211,
   "metadata": {},
   "outputs": [
    {
     "name": "stdout",
     "output_type": "stream",
     "text": [
      "00 00 DF 8B D0 01 00 00\n"
     ]
    }
   ],
   "source": [
    "def format_address(address, length=8):\n",
    "    reversed_bytes = address.to_bytes(length, byteorder='little')\n",
    "    reversed_formatted = ' '.join(f'{b:02X}' for b in reversed_bytes)\n",
    "    return reversed_formatted\n",
    "\n",
    "#print(format_address(0x1CA99861000))\n",
    "TR_address_reversed_formatted=format_address(TR)\n",
    "print(TR_address_reversed_formatted)\n"
   ]
  },
  {
   "cell_type": "code",
   "execution_count": 212,
   "metadata": {},
   "outputs": [],
   "source": [
    "push_rax=['50']\n",
    "#lea_eax_rx_x=['41','8D','41','10']# r9+10\n",
    "lea_eax_rx_x=['41','8D','42','10']# r10+10\n",
    "move_TR_eax=['A3']+TR_address_reversed_formatted.split(' ')# [TR],EAX\n",
    "pop_rax=['58']\n",
    "#movsx_esi_byte_ptr_rx_x=['41','0F' ,'BE', '71', '10']\n",
    "movsx_esi_byte_ptr_rx_x=['41','0F' ,'BE', '72', '10']\n"
   ]
  },
  {
   "cell_type": "code",
   "execution_count": 213,
   "metadata": {},
   "outputs": [
    {
     "data": {
      "text/plain": [
       "25"
      ]
     },
     "execution_count": 213,
     "metadata": {},
     "output_type": "execute_result"
    }
   ],
   "source": [
    "len('50 41 8D 41 10 A3 00 10 86 99 CA 01 00 00 58 41 0F BE 71 10 E9 40 52 AC OB'.split(' '))\n",
    "#'50 41 8D 41 10 A3 00 10 86 99 CA 01 00 00 58 41 0F BE 71 10 E9 40 52 AC OB'.split(' ')"
   ]
  },
  {
   "cell_type": "code",
   "execution_count": 214,
   "metadata": {},
   "outputs": [
    {
     "name": "stdout",
     "output_type": "stream",
     "text": [
      "len part_head_combine 20\n",
      "['50', '41', '8D', '42', '10', 'A3', '00', '00', 'DF', '8B', 'D0', '01', '00', '00', '58', '41', '0F', 'BE', '72', '10']\n"
     ]
    }
   ],
   "source": [
    "part_head_combine= push_rax+lea_eax_rx_x+move_TR_eax+pop_rax+movsx_esi_byte_ptr_rx_x\n",
    "part_head_combine\n",
    "print('len part_head_combine',len(part_head_combine))\n",
    "print(part_head_combine)\n",
    "jmp_place=['E9']"
   ]
  },
  {
   "cell_type": "code",
   "execution_count": 215,
   "metadata": {},
   "outputs": [
    {
     "name": "stdout",
     "output_type": "stream",
     "text": [
      "shell_code_len 25\n"
     ]
    }
   ],
   "source": [
    "shell_code_len=len(part_head_combine)+1+4\n",
    "print('shell_code_len',shell_code_len)"
   ]
  },
  {
   "cell_type": "code",
   "execution_count": 216,
   "metadata": {},
   "outputs": [],
   "source": [
    "# Allocate new memory\n",
    "newmem = pymem.memory.allocate_memory(pm.process_handle, shell_code_len)"
   ]
  },
  {
   "cell_type": "code",
   "execution_count": 217,
   "metadata": {},
   "outputs": [
    {
     "name": "stdout",
     "output_type": "stream",
     "text": [
      "1995211407360\n",
      "0x1d08bde0000\n"
     ]
    }
   ],
   "source": [
    "print(newmem)\n",
    "print(hex(newmem))"
   ]
  },
  {
   "cell_type": "code",
   "execution_count": 218,
   "metadata": {},
   "outputs": [
    {
     "data": {
      "text/plain": [
       "'0x1d08bde0014'"
      ]
     },
     "execution_count": 218,
     "metadata": {},
     "output_type": "execute_result"
    }
   ],
   "source": [
    "newmen_end_row_address_jmp=hex(len(part_head_combine)+newmem)\n",
    "newmen_end_row_address_jmp"
   ]
  },
  {
   "cell_type": "code",
   "execution_count": 219,
   "metadata": {},
   "outputs": [],
   "source": [
    "import struct\n",
    "\n",
    "def calculate_jmp_offset(jmp_addr, target_addr):\n",
    "    offset = target_addr - (jmp_addr + 5)\n",
    "    return offset\n",
    "\n",
    "def to_signed_32_bit_le(i):\n",
    "    return struct.pack('<i', i)"
   ]
  },
  {
   "cell_type": "code",
   "execution_count": 220,
   "metadata": {},
   "outputs": [
    {
     "name": "stdout",
     "output_type": "stream",
     "text": [
      "jmp_addr_1 1995211407380\n",
      "target_addr_1 1996898335961\n",
      "0x1d0f06a7cd9\n",
      "offset_1 1995211407380 1996898335961\n",
      "offset_1 1686928576\n",
      "offset_1_le b'\\xc0|\\x8cd'\n",
      "jmp_addr_2 1996898335956 0x1d0f06a7cd4\n",
      "target_addr_2 1995211407360 0x1d08bde0000\n",
      "2783739b\n"
     ]
    }
   ],
   "source": [
    "# 先算 newmen中jmp 的偏移量\n",
    "jmp_addr_1=int(newmen_end_row_address_jmp,16)  #多数以14结尾\n",
    "print('jmp_addr_1',jmp_addr_1)\n",
    "target_addr_1=aob_address+5\n",
    "print('target_addr_1',target_addr_1)\n",
    "print(hex(target_addr_1))\n",
    "print('offset_1',jmp_addr_1, target_addr_1)\n",
    "offset_1 = calculate_jmp_offset(jmp_addr_1, target_addr_1)\n",
    "print('offset_1',offset_1)\n",
    "offset_1_le = to_signed_32_bit_le(offset_1)\n",
    "print('offset_1_le',offset_1_le)\n",
    "\n",
    "# offset_2_le 是从 aob_address 跳到 newmen 的偏移量 A开头\n",
    "jmp_addr_2=aob_address  # aob address\n",
    "print('jmp_addr_2',jmp_addr_2,hex(jmp_addr_2))\n",
    "target_addr_2=newmem\n",
    "print('target_addr_2',target_addr_2,hex(target_addr_2))\n",
    "offset_2 = calculate_jmp_offset(jmp_addr_2, target_addr_2)\n",
    "# Convert to signed 32-bit little endian format\n",
    "offset_2_le = to_signed_32_bit_le(offset_2)\n",
    "# Print the offset in hexadecimal\n",
    "print(offset_2_le.hex())\n"
   ]
  },
  {
   "cell_type": "code",
   "execution_count": 221,
   "metadata": {},
   "outputs": [
    {
     "data": {
      "text/plain": [
       "['50',\n",
       " '41',\n",
       " '8D',\n",
       " '42',\n",
       " '10',\n",
       " 'A3',\n",
       " '00',\n",
       " '00',\n",
       " 'DF',\n",
       " '8B',\n",
       " 'D0',\n",
       " '01',\n",
       " '00',\n",
       " '00',\n",
       " '58',\n",
       " '41',\n",
       " '0F',\n",
       " 'BE',\n",
       " '72',\n",
       " '10',\n",
       " 'E9',\n",
       " b'\\xc0',\n",
       " b'|',\n",
       " b'\\x8c',\n",
       " b'd']"
      ]
     },
     "execution_count": 221,
     "metadata": {},
     "output_type": "execute_result"
    }
   ],
   "source": [
    "hex_values=part_head_combine+jmp_place+[offset_1_le[0:1],offset_1_le[1:2],offset_1_le[2:3],offset_1_le[3:4]]\n",
    "hex_values"
   ]
  },
  {
   "cell_type": "code",
   "execution_count": 222,
   "metadata": {},
   "outputs": [
    {
     "name": "stdout",
     "output_type": "stream",
     "text": [
      "b'PA\\x8dB\\x10\\xa3\\x00\\x00\\xdf\\x8b\\xd0\\x01\\x00\\x00XA\\x0f\\xber\\x10\\xe9\\xc0|\\x8cd'\n"
     ]
    }
   ],
   "source": [
    "#hex_string = \"50 41 8D 41 10 A3 00 00 10 88 CA 01 00 00 58 41 0F BE 71 10 E9 40 52 AC 0B\"\n",
    "#hex_values = hex_string.split()  # split the string into a list of two-character strings\n",
    "hex_values=part_head_combine+jmp_place+[offset_1_le[0:1],offset_1_le[1:2],offset_1_le[2:3],offset_1_le[3:4]]\n",
    "byte_values = []\n",
    "for hv in hex_values:\n",
    "    if isinstance(hv, str):  # if hv is a hex string\n",
    "        byte_values.append(int(hv, 16))\n",
    "    elif isinstance(hv, bytes):  # if hv is a byte object\n",
    "        byte_values.append(int.from_bytes(hv, 'little'))  # or 'big' if your data is big-endian\n",
    "shellcode = bytes(byte_values)\n",
    "print(shellcode)\n"
   ]
  },
  {
   "attachments": {},
   "cell_type": "markdown",
   "metadata": {},
   "source": [
    "先要创造shellcode 然后再写入"
   ]
  },
  {
   "cell_type": "code",
   "execution_count": 223,
   "metadata": {},
   "outputs": [
    {
     "data": {
      "text/plain": [
       "'0x1d08bde0000'"
      ]
     },
     "execution_count": 223,
     "metadata": {},
     "output_type": "execute_result"
    }
   ],
   "source": [
    "hex(newmem)"
   ]
  },
  {
   "cell_type": "code",
   "execution_count": 224,
   "metadata": {},
   "outputs": [],
   "source": [
    "result1=pm.write_bytes(newmem, shellcode, len(shellcode))"
   ]
  },
  {
   "cell_type": "code",
   "execution_count": 225,
   "metadata": {},
   "outputs": [
    {
     "name": "stdout",
     "output_type": "stream",
     "text": [
      "['E9', b\"'\", b'\\x83', b's', b'\\x9b']\n",
      "b\"\\xe9'\\x83s\\x9b\"\n"
     ]
    }
   ],
   "source": [
    "#现在要去aob address jmp 到newmen\n",
    "inject_hex = ['E9']+[offset_2_le[0:1],offset_2_le[1:2],offset_2_le[2:3],offset_2_le[3:4]]\n",
    "print(inject_hex)\n",
    "byte_values = []\n",
    "for hv in inject_hex:\n",
    "    if isinstance(hv, str):  # if hv is a hex string\n",
    "        byte_values.append(int(hv, 16))\n",
    "    elif isinstance(hv, bytes):  # if hv is a byte object\n",
    "        byte_values.append(int.from_bytes(hv, 'little'))  # or 'big' if your data is big-endian\n",
    "inject_hex_shellcode = bytes(byte_values)\n",
    "print(inject_hex_shellcode)"
   ]
  },
  {
   "cell_type": "code",
   "execution_count": 226,
   "metadata": {},
   "outputs": [
    {
     "data": {
      "text/plain": [
       "['E9', b\"'\", b'\\x83', b's', b'\\x9b']"
      ]
     },
     "execution_count": 226,
     "metadata": {},
     "output_type": "execute_result"
    }
   ],
   "source": [
    "inject_hex"
   ]
  },
  {
   "cell_type": "code",
   "execution_count": 227,
   "metadata": {},
   "outputs": [
    {
     "name": "stdout",
     "output_type": "stream",
     "text": [
      "aob_address 1996898335956 0x1d0f06a7cd4\n"
     ]
    }
   ],
   "source": [
    "print('aob_address',aob_address,hex(aob_address))"
   ]
  },
  {
   "cell_type": "code",
   "execution_count": 228,
   "metadata": {},
   "outputs": [
    {
     "name": "stdout",
     "output_type": "stream",
     "text": [
      "b\"\\xe9'\\x83s\\x9b\"\n"
     ]
    }
   ],
   "source": [
    "len(inject_hex_shellcode)\n",
    "print(inject_hex_shellcode)"
   ]
  },
  {
   "cell_type": "code",
   "execution_count": 229,
   "metadata": {},
   "outputs": [
    {
     "data": {
      "text/plain": [
       "b\"\\xe9'\\x83s\\x9b\""
      ]
     },
     "execution_count": 229,
     "metadata": {},
     "output_type": "execute_result"
    }
   ],
   "source": [
    "inject_hex_shellcode"
   ]
  },
  {
   "cell_type": "code",
   "execution_count": 230,
   "metadata": {},
   "outputs": [
    {
     "name": "stdout",
     "output_type": "stream",
     "text": [
      "1996898335956 b\"\\xe9'\\x83s\\x9b\" 5\n"
     ]
    }
   ],
   "source": [
    "print(aob_address, inject_hex_shellcode, len(inject_hex_shellcode))"
   ]
  },
  {
   "cell_type": "code",
   "execution_count": 231,
   "metadata": {},
   "outputs": [
    {
     "name": "stdout",
     "output_type": "stream",
     "text": [
      "None\n"
     ]
    }
   ],
   "source": [
    "result2=pm.write_bytes(aob_address, inject_hex_shellcode, len(inject_hex_shellcode))\n",
    "print(result2)"
   ]
  },
  {
   "attachments": {},
   "cell_type": "markdown",
   "metadata": {},
   "source": [
    "下面有点意思"
   ]
  },
  {
   "cell_type": "code",
   "execution_count": 74,
   "metadata": {},
   "outputs": [
    {
     "name": "stdout",
     "output_type": "stream",
     "text": [
      "aob 跳 newmen -195842649\n",
      "-0XBAC5259\n",
      "newmen结尾跳 aob+5 195842624\n",
      "0XBAC5240\n"
     ]
    }
   ],
   "source": [
    "import struct\n",
    "def offset_to_dec(offset):\n",
    "\n",
    "  offset_bytes = bytes.fromhex(offset)\n",
    "  offset = struct.unpack('<i', offset_bytes)[0]\n",
    "  return offset\n",
    "\n",
    "offset = offset_to_dec('A7AD53F4')\n",
    "print('aob 跳 newmen',offset)\n",
    "print(hex(offset).upper())\n",
    "\n",
    "offset = offset_to_dec('4052AC0B')\n",
    "print('newmen结尾跳 aob+5',offset)\n",
    "print(hex(offset).upper())\n",
    "\n"
   ]
  },
  {
   "cell_type": "code",
   "execution_count": 78,
   "metadata": {},
   "outputs": [
    {
     "name": "stdout",
     "output_type": "stream",
     "text": [
      "jmp_addr_1 1969670717460\n",
      "target_addr_1 1969866560089\n",
      "4052ac0b\n",
      "jmp_addr_2 1969866560084\n",
      "target_addr_2 1969670717440\n",
      "a7ad53f4\n"
     ]
    }
   ],
   "source": []
  },
  {
   "cell_type": "code",
   "execution_count": 60,
   "metadata": {},
   "outputs": [
    {
     "name": "stdout",
     "output_type": "stream",
     "text": [
      "-195842649\n",
      "-0xbac5259\n"
     ]
    }
   ],
   "source": [
    "offset_hex = 'A7AD53F4'\n",
    "offset_bytes = bytes.fromhex(offset_hex)\n",
    "offset = struct.unpack('<i', offset_bytes)[0]\n",
    "\n",
    "print(offset)\n",
    "print(hex(offset))"
   ]
  },
  {
   "cell_type": "code",
   "execution_count": null,
   "metadata": {},
   "outputs": [],
   "source": [
    "1CAA5325254 - bac5254 =1CA 9986 0000"
   ]
  },
  {
   "cell_type": "code",
   "execution_count": 61,
   "metadata": {},
   "outputs": [
    {
     "name": "stdout",
     "output_type": "stream",
     "text": [
      "5452ac0b\n"
     ]
    }
   ],
   "source": [
    "def offset_to_hex(offset):\n",
    "    packed = struct.pack('<i', offset)  # Pack the offset as a little-endian signed int\n",
    "    return packed.hex()  # Convert the bytes to a hex string\n",
    "\n",
    "# Example usage:\n",
    "offset = 195842644\n",
    "hex_offset = offset_to_hex(offset)\n",
    "print(hex_offset)  # Should output '4052ac0b'"
   ]
  },
  {
   "cell_type": "code",
   "execution_count": 48,
   "metadata": {},
   "outputs": [
    {
     "name": "stdout",
     "output_type": "stream",
     "text": [
      "0xbac5254\n"
     ]
    }
   ],
   "source": [
    "# 'BAC5254'to 32 bit int\n",
    "BAC5254_32_bit_int=int('BAC5254', 16)\n",
    "print(hex(BAC5254_32_bit_int))\n"
   ]
  },
  {
   "cell_type": "code",
   "execution_count": null,
   "metadata": {},
   "outputs": [],
   "source": [
    "# 1CAA5325254-1CA99860014 = 0xbac5254 or 195,842,629"
   ]
  },
  {
   "cell_type": "code",
   "execution_count": 49,
   "metadata": {},
   "outputs": [
    {
     "name": "stdout",
     "output_type": "stream",
     "text": [
      "0xf453ada7\n"
     ]
    }
   ],
   "source": [
    "def calculate_jump_offset(jmp_address, destination):\n",
    "    destination = int(destination, 16)  # Convert the destination from hexadecimal to an integer\n",
    "\n",
    "    offset = destination - jmp_address - 5  # Subtract 5 because the relative offset is from the next instruction after the `jmp`, which is 5 bytes later\n",
    "\n",
    "    # If the offset is negative, convert it to an unsigned integer\n",
    "    if offset < 0:\n",
    "        offset += 0x100000000\n",
    "\n",
    "    return hex(offset)  # Return the offset as a hexadecimal string\n",
    "\n",
    "# Example usage\n",
    "jmp_address = 0x1CAA5325254\n",
    "destination = '1CA99860000'\n",
    "print(calculate_jump_offset(jmp_address, destination))  # Output: 0xA7AD53F4\n"
   ]
  },
  {
   "cell_type": "code",
   "execution_count": null,
   "metadata": {},
   "outputs": [],
   "source": [
    "aob-newmen = aob's jump "
   ]
  },
  {
   "cell_type": "code",
   "execution_count": 46,
   "metadata": {},
   "outputs": [
    {
     "name": "stdout",
     "output_type": "stream",
     "text": [
      "0x1ca4cdfa64d\n"
     ]
    }
   ],
   "source": [
    "def calculate_jump_destination(jmp_address, offset):\n",
    "    offset = int(offset, 16)  # Convert the offset from hexadecimal to an integer\n",
    "\n",
    "    # Convert to a signed integer if the offset is larger than the maximum positive value for a 32-bit integer\n",
    "    if offset > 0x7FFFFFFF:\n",
    "        offset -= 0x100000000\n",
    "\n",
    "    destination = jmp_address + offset + 5  # Add 5 because the relative offset is from the next instruction after the `jmp`, which is 5 bytes later\n",
    "\n",
    "    return hex(destination)  # Return the destination address as a hexadecimal string\n",
    "\n",
    "# Example usage\n",
    "jmp_address = 0x1CAA5325254\n",
    "offset = 'A7AD53F4'\n",
    "print(calculate_jump_destination(jmp_address, offset))  # Output: 0x1ca99860000\n"
   ]
  },
  {
   "cell_type": "code",
   "execution_count": 53,
   "metadata": {},
   "outputs": [
    {
     "data": {
      "text/plain": [
       "2813154292"
      ]
     },
     "execution_count": 53,
     "metadata": {},
     "output_type": "execute_result"
    }
   ],
   "source": [
    "#195842644  to a  32 bit signed int\n",
    "# Convert hex to unsigned integer\n",
    "value = int('A7AD53F4', 16)\n",
    "value"
   ]
  },
  {
   "cell_type": "code",
   "execution_count": 34,
   "metadata": {},
   "outputs": [
    {
     "name": "stdout",
     "output_type": "stream",
     "text": [
      "目标地址: 0x13f21b4a61f\n"
     ]
    }
   ],
   "source": [
    "current_address = 0x13EE1A40014\n",
    "relative_offset = 0x4010A60B\n",
    "\n",
    "# 计算目标地址\n",
    "target_address = current_address + relative_offset\n",
    "\n",
    "# 打印结果\n",
    "print(\"目标地址:\", hex(target_address))\n"
   ]
  },
  {
   "cell_type": "code",
   "execution_count": 32,
   "metadata": {},
   "outputs": [
    {
     "data": {
      "text/plain": [
       "1368048664576"
      ]
     },
     "execution_count": 32,
     "metadata": {},
     "output_type": "execute_result"
    }
   ],
   "source": [
    "newmem"
   ]
  },
  {
   "cell_type": "code",
   "execution_count": 33,
   "metadata": {},
   "outputs": [
    {
     "ename": "TypeError",
     "evalue": "can't concat int to bytes",
     "output_type": "error",
     "traceback": [
      "\u001b[1;31m---------------------------------------------------------------------------\u001b[0m",
      "\u001b[1;31mTypeError\u001b[0m                                 Traceback (most recent call last)",
      "Cell \u001b[1;32mIn[33], line 1\u001b[0m\n\u001b[1;32m----> 1\u001b[0m jump_inst \u001b[39m=\u001b[39m \u001b[39mb\u001b[39m\u001b[39m\"\u001b[39m\u001b[39m\\xE9\u001b[39;00m\u001b[39m\"\u001b[39m \u001b[39m+\u001b[39m (\u001b[39mhex\u001b[39m(newmem) \u001b[39m-\u001b[39m (aob \u001b[39m+\u001b[39;49m \u001b[39m5\u001b[39;49m))\u001b[39m.\u001b[39mto_bytes(\u001b[39m4\u001b[39m, byteorder\u001b[39m=\u001b[39m\u001b[39m'\u001b[39m\u001b[39mlittle\u001b[39m\u001b[39m'\u001b[39m, signed\u001b[39m=\u001b[39m\u001b[39mTrue\u001b[39;00m)\n\u001b[0;32m      2\u001b[0m jump_inst\n",
      "\u001b[1;31mTypeError\u001b[0m: can't concat int to bytes"
     ]
    }
   ],
   "source": [
    "jump_inst = b\"\\xE9\" + (hex(newmem) - (aob + 5)).to_bytes(4, byteorder='little', signed=True)\n"
   ]
  },
  {
   "cell_type": "code",
   "execution_count": 26,
   "metadata": {},
   "outputs": [
    {
     "name": "stdout",
     "output_type": "stream",
     "text": [
      "1368048664576\n",
      "0x13e860e0000\n"
     ]
    }
   ],
   "source": [
    "print(newmem)\n",
    "print(hex(newmem))"
   ]
  },
  {
   "attachments": {},
   "cell_type": "markdown",
   "metadata": {},
   "source": [
    "插入 shell code"
   ]
  },
  {
   "cell_type": "code",
   "execution_count": 27,
   "metadata": {},
   "outputs": [],
   "source": [
    "result1=pm.write_bytes(newmem, shellcode, len(shellcode))"
   ]
  },
  {
   "cell_type": "code",
   "execution_count": null,
   "metadata": {},
   "outputs": [],
   "source": [
    "\n",
    "print(result1)\n"
   ]
  },
  {
   "cell_type": "code",
   "execution_count": null,
   "metadata": {},
   "outputs": [],
   "source": [
    "result2=pm.write_uint(aob_address, newmem)\n",
    "print(result2)"
   ]
  },
  {
   "cell_type": "code",
   "execution_count": null,
   "metadata": {},
   "outputs": [
    {
     "name": "stdout",
     "output_type": "stream",
     "text": [
      "b'\\xe9\\xa7\\x87Q\\xf4E\\x0f\\xb6Q\\x12D\\x8bB$E\\x0f\\xb6I\\x11A\\xc1\\xe2\\x10A\\xc1\\xe1\\x08A\\x0b\\xf1A\\x0b'\n"
     ]
    }
   ],
   "source": [
    "def read_memory(process, address, length):\n",
    "    pm = pymem.Pymem(process)\n",
    "    data = pm.read_bytes(address, length)\n",
    "    return data\n",
    "\n",
    "# Convert the address from a hexadecimal string to an integer\n",
    "address = int('0x1811ecc7854', 16)\n",
    "\n",
    "# Read 2 bytes from the memory address\n",
    "data = read_memory('javaw.exe', address, 32)\n",
    "\n",
    "# Print the data\n",
    "print(data)"
   ]
  },
  {
   "cell_type": "code",
   "execution_count": null,
   "metadata": {},
   "outputs": [
    {
     "name": "stdout",
     "output_type": "stream",
     "text": [
      "5091950017904467859766155064152094721085811349173482434888371411639559759849\n"
     ]
    }
   ],
   "source": [
    "data_int = int.from_bytes(data, byteorder='little')  # or 'big', depending on the data's endianness\n",
    "print(data_int)"
   ]
  },
  {
   "cell_type": "code",
   "execution_count": null,
   "metadata": {},
   "outputs": [
    {
     "data": {
      "text/plain": [
       "'B41F10B4108E1C14110E2C1411149B60F4524428B441251B60F45F45187A7E9'"
      ]
     },
     "execution_count": 8,
     "metadata": {},
     "output_type": "execute_result"
    }
   ],
   "source": [
    "# data to hex\n",
    "data_hex = format(data_int, 'X')\n",
    "data_hex"
   ]
  },
  {
   "cell_type": "code",
   "execution_count": null,
   "metadata": {},
   "outputs": [],
   "source": [
    "import pymem\n",
    "import pymem.pattern\n",
    "\n",
    "def aob_injection(process, aob, shellcode):\n",
    "    pm = pymem.Pymem(process)\n",
    "    aob_address = pymem.pattern.pattern_scan_all(pm.process_handle, pattern=aob)\n",
    "    if not aob_address:\n",
    "        return None, None\n",
    "    \n",
    "    # Allocate new memory\n",
    "    newmem = pymem.memory.allocate_memory(pm.process_handle, len(shellcode))  \n",
    "      \n",
    "    # Allocate memory for TR\n",
    "    TR = pymem.memory.allocate_memory(pm.process_handle, 4)\n",
    "\n",
    "    # Write shellcode to new memory\n",
    "    pm.write_bytes(newmem, shellcode, len(shellcode))\n",
    "    \n",
    "    # Write the address of newmem at the location of the AOB\n",
    "    pm.write_uint(aob_address, newmem)\n",
    "    \n",
    "    return newmem, TR  # so we can deallocate them later\n",
    "\n",
    "def deallocate(process, newmem, TR):\n",
    "    pm = pymem.Pymem(process)\n",
    "    pymem.memory.free_memory(pm.process_handle, newmem)\n",
    "    pymem.memory.free_memory(pm.process_handle, TR)\n",
    "\n",
    "# Example usage\n",
    "aob = bytes.fromhex('41 0F BE 71 10 45')\n",
    "shellcode = b'\\x90' * 100  # replace with your actual shellcode\n",
    "process = 'javaw.exe'\n",
    "newmem, TR = aob_injection(process, aob, shellcode)\n",
    "\n",
    "# ... do something ...\n",
    "\n",
    "deallocate(process, newmem, TR)\n"
   ]
  },
  {
   "cell_type": "code",
   "execution_count": null,
   "metadata": {},
   "outputs": [
    {
     "name": "stdout",
     "output_type": "stream",
     "text": [
      "2901531490856\n",
      "0x2a390c0fa28\n"
     ]
    }
   ],
   "source": [
    "import pymem\n",
    "import pymem.pattern\n",
    "aob = bytes.fromhex('45 0F BE 4B 10 41 0F B6')\n",
    "process = 'javaw.exe'\n",
    "pm = pymem.Pymem(process)\n",
    "aob_address = pymem.pattern.pattern_scan_all(pm.process_handle, pattern=aob)\n",
    "print(aob_address)\n",
    "print(hex(aob_address))"
   ]
  },
  {
   "cell_type": "code",
   "execution_count": null,
   "metadata": {},
   "outputs": [],
   "source": [
    "# Allocate memory for TR\n",
    "TR = pymem.memory.allocate_memory(pm.process_handle, 4)"
   ]
  },
  {
   "cell_type": "code",
   "execution_count": null,
   "metadata": {},
   "outputs": [
    {
     "name": "stdout",
     "output_type": "stream",
     "text": [
      "2901925429248\n",
      "0x2a3a83c0000\n"
     ]
    }
   ],
   "source": []
  },
  {
   "cell_type": "code",
   "execution_count": null,
   "metadata": {},
   "outputs": [
    {
     "name": "stdout",
     "output_type": "stream",
     "text": [
      "b'PA\\x8dC\\x10\\xa3\\x00\\x00<\\xa8\\xa3\\x02\\x00\\x00X'\n",
      "2901942075392\n"
     ]
    }
   ],
   "source": []
  },
  {
   "cell_type": "code",
   "execution_count": null,
   "metadata": {},
   "outputs": [
    {
     "name": "stdout",
     "output_type": "stream",
     "text": [
      "0x2a3a93a0000\n"
     ]
    }
   ],
   "source": [
    "print(hex(newmem))"
   ]
  },
  {
   "cell_type": "code",
   "execution_count": 12,
   "metadata": {},
   "outputs": [
    {
     "name": "stdout",
     "output_type": "stream",
     "text": [
      "b'\\x00\\x00\\x00\\x00\\x01\\x00\\x00\\x00\\x00\\x00\\x00\\x00G\\t\\x04 \\xf1\\xd5\\x98=\\x8em4>\\xe4\\xff\\xc3\\xbe\\xef^g?'\n",
      "Could not read memory: name 'data' is not defined\n"
     ]
    }
   ],
   "source": [
    "import struct\n",
    "pm = pymem.Pymem('javaw.exe')  # replace 'YourProcessName' with the name of your process\n",
    "# Register r10 value\n",
    "r10_value = 'EAC9F058'\n",
    "r10_dec = int(r10_value, 16)\n",
    "\n",
    "# Try to read 1 byte from the memory location at r10_dec + 0x10\n",
    "try:\n",
    "    value = pm.read_bytes(r10_dec + 0x64,32)\n",
    "    print(value)\n",
    "    chunks = [value[i:i+2] for i in range(0, len(data), 2)]\n",
    "\n",
    "    # Use struct.unpack to interpret each chunk as a 16-bit integer\n",
    "    ints = [struct.unpack('<H', chunk)[0] for chunk in chunks]\n",
    "\n",
    "    print(ints)\n",
    "except Exception as e:\n",
    "    print(f\"Could not read memory: {e}\")\n"
   ]
  },
  {
   "cell_type": "code",
   "execution_count": null,
   "metadata": {},
   "outputs": [
    {
     "name": "stdout",
     "output_type": "stream",
     "text": [
      "None\n",
      "None\n"
     ]
    }
   ],
   "source": []
  },
  {
   "cell_type": "code",
   "execution_count": 19,
   "metadata": {},
   "outputs": [
    {
     "name": "stdout",
     "output_type": "stream",
     "text": [
      "b'push rax\\nlea eax,[r11+0x10]\\nmovabs ds:0x2a3a83c0000,eax\\npop rax' = [80, 65, 141, 67, 16, 163, 0, 0, 60, 168, 163, 2, 0, 0, 88]\n"
     ]
    }
   ],
   "source": [
    "from keystone import *\n",
    "\n",
    "CODE = b\"\"\"push rax\n",
    "lea eax,[r11+0x10]\n",
    "movabs ds:0x2a3a83c0000,eax\n",
    "pop rax\"\"\"\n",
    "\n",
    "try:\n",
    "    # Initialize Keystone engine\n",
    "    ks = Ks(KS_ARCH_X86,  KS_MODE_64)\n",
    "\n",
    "    # Assemble the CODE\n",
    "    encoding, count = ks.asm(CODE)\n",
    "    print(\"%s = %s\" %(CODE, encoding))\n",
    "except KsError as e:\n",
    "    print(\"ERROR: %s\" %e)\n"
   ]
  },
  {
   "cell_type": "code",
   "execution_count": null,
   "metadata": {},
   "outputs": [
    {
     "name": "stdout",
     "output_type": "stream",
     "text": [
      "ERROR: Cannot find a symbol (KS_ERR_ASM_SYMBOL_MISSING)\n"
     ]
    }
   ],
   "source": [
    "from keystone import *\n",
    "\n",
    "# separate assembly instructions by ; or \\n\n",
    "CODE = b\"\"\"push eax;lea eax, [r11+10];mov [0x83c0000], eax;pop eax;\"\"\"\n",
    "try:\n",
    "  # Initialize engine in X86-32bit mode\n",
    "  ks = Ks(KS_ARCH_X86, KS_MODE_32)\n",
    "  encoding, count = ks.asm(CODE)\n",
    "  print(\"%s = %s (number of statements: %u)\" %(CODE, encoding, count))\n",
    "except KsError as e:\n",
    "  print(\"ERROR: %s\" %e)"
   ]
  },
  {
   "cell_type": "code",
   "execution_count": null,
   "metadata": {},
   "outputs": [
    {
     "ename": "OverflowError",
     "evalue": "int too big to convert",
     "output_type": "error",
     "traceback": [
      "\u001b[1;31m---------------------------------------------------------------------------\u001b[0m",
      "\u001b[1;31mOverflowError\u001b[0m                             Traceback (most recent call last)",
      "Cell \u001b[1;32mIn[103], line 32\u001b[0m\n\u001b[0;32m     29\u001b[0m r9_offset \u001b[39m=\u001b[39m \u001b[39m0x10\u001b[39m  \u001b[39m# Replace with the desired value for r9 offset\u001b[39;00m\n\u001b[0;32m     30\u001b[0m r11_offset \u001b[39m=\u001b[39m \u001b[39m0x10\u001b[39m  \u001b[39m# Replace with the desired value for r11 offset\u001b[39;00m\n\u001b[1;32m---> 32\u001b[0m shellcode_r10 \u001b[39m=\u001b[39m generate_shellcode(TR, \u001b[39m0b010\u001b[39;49m, r10_offset)\n\u001b[0;32m     33\u001b[0m shellcode_r9 \u001b[39m=\u001b[39m generate_shellcode(TR, \u001b[39m0b001\u001b[39m, r9_offset)\n\u001b[0;32m     34\u001b[0m shellcode_r11 \u001b[39m=\u001b[39m generate_shellcode(TR, \u001b[39m0b011\u001b[39m, r11_offset)\n",
      "Cell \u001b[1;32mIn[103], line 16\u001b[0m, in \u001b[0;36mgenerate_shellcode\u001b[1;34m(tr_address, register_offset, offset)\u001b[0m\n\u001b[0;32m     14\u001b[0m shellcode\u001b[39m.\u001b[39mappend(\u001b[39m0x89\u001b[39m)\n\u001b[0;32m     15\u001b[0m shellcode\u001b[39m.\u001b[39mappend(\u001b[39m0x88\u001b[39m)  \u001b[39m# ModRM byte\u001b[39;00m\n\u001b[1;32m---> 16\u001b[0m shellcode\u001b[39m.\u001b[39mextend(tr_address\u001b[39m.\u001b[39;49mto_bytes(\u001b[39m4\u001b[39;49m, \u001b[39m'\u001b[39;49m\u001b[39mlittle\u001b[39;49m\u001b[39m'\u001b[39;49m))  \u001b[39m# Offset\u001b[39;00m\n\u001b[0;32m     18\u001b[0m \u001b[39m# pop eax\u001b[39;00m\n\u001b[0;32m     19\u001b[0m shellcode\u001b[39m.\u001b[39mappend(\u001b[39m0x58\u001b[39m)\n",
      "\u001b[1;31mOverflowError\u001b[0m: int too big to convert"
     ]
    }
   ],
   "source": [
    "def generate_shellcode(tr_address, register_offset, offset):\n",
    "    shellcode = bytearray()\n",
    "    \n",
    "    # push eax\n",
    "    shellcode.append(0x50)\n",
    "    \n",
    "    # lea eax, [register+offset]\n",
    "    shellcode.append(0x8D)\n",
    "    modrm_byte = (0x80 + register_offset) << 3 | 0x04  # ModRM byte with SIB byte\n",
    "    shellcode.append(modrm_byte & 0xFF)  # Ensure the byte is within range\n",
    "    shellcode.extend(offset.to_bytes(4, 'little'))  # Offset\n",
    "    \n",
    "    # mov [TR], eax\n",
    "    shellcode.append(0x89)\n",
    "    shellcode.append(0x88)  # ModRM byte\n",
    "    shellcode.extend(tr_address.to_bytes(4, 'little'))  # Offset\n",
    "    \n",
    "    # pop eax\n",
    "    shellcode.append(0x58)\n",
    "    \n",
    "    return bytes(shellcode)\n",
    "\n",
    "# 2901531490856\n",
    "# 0x2a390c0fa28\n",
    "\n",
    "# Example usage\n",
    "TR = 0x2a390c0fa28  # Replace with the desired value for TR\n",
    "r10_offset = 0x10  # Replace with the desired value for r10 offset\n",
    "r9_offset = 0x10  # Replace with the desired value for r9 offset\n",
    "r11_offset = 0x10  # Replace with the desired value for r11 offset\n",
    "\n",
    "shellcode_r10 = generate_shellcode(TR, 0b010, r10_offset)\n",
    "shellcode_r9 = generate_shellcode(TR, 0b001, r9_offset)\n",
    "shellcode_r11 = generate_shellcode(TR, 0b011, r11_offset)\n",
    "\n",
    "import binascii\n",
    "print(shellcode_r9)\n",
    "hex_string = binascii.hexlify(shellcode_r9).decode('utf-8')\n",
    "print(hex_string)\n",
    "print(shellcode_r11)\n",
    "hex_string = binascii.hexlify(shellcode_r11).decode('utf-8')\n",
    "print(shellcode_r11)"
   ]
  },
  {
   "cell_type": "code",
   "execution_count": null,
   "metadata": {},
   "outputs": [
    {
     "name": "stdout",
     "output_type": "stream",
     "text": [
      "b'P\\x8d\\x1c\\x10\\x00\\x00\\x00\\x89\\x88(\\xfa\\xc0\\x90\\xa3\\x02\\x00\\x00X'\n",
      "b'P\\x8d\\x1c\\x10\\x00\\x00\\x00\\x89\\x88(\\xfa\\xc0\\x90\\xa3\\x02\\x00\\x00X'\n"
     ]
    }
   ],
   "source": [
    "def generate_shellcode(tr_address, register_offset, offset):\n",
    "    shellcode = bytearray()\n",
    "    \n",
    "    # push eax\n",
    "    shellcode.append(0x50)\n",
    "    \n",
    "    # lea eax, [register+offset]\n",
    "    shellcode.append(0x8D)\n",
    "    modrm_byte = (0x80 + register_offset) << 3 | 0x04  # ModRM byte with SIB byte\n",
    "    shellcode.append(modrm_byte & 0xFF)  # Ensure the byte is within range\n",
    "    shellcode.extend(offset.to_bytes(4, 'little'))  # Offset\n",
    "    \n",
    "    # mov [TR], eax\n",
    "    shellcode.append(0x89)\n",
    "    shellcode.append(0x88)  # ModRM byte\n",
    "    shellcode.extend(tr_address.to_bytes(8, 'little'))  # TR address - adjusted to 8 bytes\n",
    "    \n",
    "    # pop eax\n",
    "    shellcode.append(0x58)\n",
    "    \n",
    "    return bytes(shellcode)\n",
    "# Example usage\n",
    "TR = 0x2a390c0fa28  # Replace with the desired value for TR\n",
    "r10_offset = 0x10  # Replace with the desired value for r10 offset\n",
    "r9_offset = 0x10  # Replace with the desired value for r9 offset\n",
    "r11_offset = 0x10  # Replace with the desired value for r11 offset\n",
    "\n",
    "shellcode_r10 = generate_shellcode(TR, 0b010, r10_offset)\n",
    "shellcode_r9 = generate_shellcode(TR, 0b001, r9_offset)\n",
    "shellcode_r11 = generate_shellcode(TR, 0b011, r11_offset)\n",
    "\n",
    "import binascii\n",
    "# print(shellcode_r9)\n",
    "# hex_string = binascii.hexlify(shellcode_r9).decode('utf-8')\n",
    "# print(hex_string)\n",
    "print(shellcode_r11)\n",
    "hex_string = binascii.hexlify(shellcode_r11).decode('utf-8')\n",
    "print(shellcode_r11)"
   ]
  },
  {
   "cell_type": "code",
   "execution_count": null,
   "metadata": {},
   "outputs": [
    {
     "name": "stdout",
     "output_type": "stream",
     "text": [
      "push rax\n",
      "lea eax, [r11 + 0x10]\n",
      "movabs dword ptr [0x2a3a83c0000], eax\n",
      "pop rax\n"
     ]
    }
   ],
   "source": [
    "from capstone import Cs, CS_ARCH_X86, CS_MODE_64\n",
    "\n",
    "# shellcode = b'P\\x8d\\x0c\\x10\\x00\\x00\\x00\\x89\\x88xV4\\x12X'\n",
    "# new_code = b\"P\\x8d\\x1c\\x10\\x00\\x00\\x00\\x89\\x88(\\xfa\\xc0\\x90\\xa3\\x02\\x00\\x00X\"\n",
    "# 创建Capstone对象\n",
    "md = Cs(CS_ARCH_X86, CS_MODE_64)\n",
    "md.detail = True\n",
    "\n",
    "# 反汇编shellcode\n",
    "for insn in md.disasm(shellcode, 0x1000):\n",
    "    print(f\"{insn.mnemonic} {insn.op_str}\")\n"
   ]
  },
  {
   "cell_type": "code",
   "execution_count": null,
   "metadata": {},
   "outputs": [
    {
     "name": "stdout",
     "output_type": "stream",
     "text": [
      "0x1000:\tpush\teax\n",
      "0x1001:\tlea\teax, [0xa]\n",
      "0x1007:\tmov\tdword ptr [0xa83c0000], eax\n",
      "0x100c:\tpop\teax\n"
     ]
    }
   ],
   "source": [
    "from capstone import Cs, CS_ARCH_X86, CS_MODE_32\n",
    "\n",
    "# 定义x86汇编代码\n",
    "shellcode = b\"\\x50\\x8D\\x05\\x0A\\x00\\x00\\x00\\xA3\\x00\\x00\\x3C\\xA8\\x58\"\n",
    "\n",
    "# 创建Capstone对象\n",
    "md = Cs(CS_ARCH_X86, CS_MODE_32)\n",
    "\n",
    "# 反汇编代码\n",
    "for i in md.disasm(shellcode, 0x1000):\n",
    "    print(\"0x%x:\\t%s\\t%s\" % (i.address, i.mnemonic, i.op_str))\n"
   ]
  },
  {
   "cell_type": "code",
   "execution_count": null,
   "metadata": {},
   "outputs": [
    {
     "ename": "ArgumentError",
     "evalue": "argument 2: TypeError: wrong type",
     "output_type": "error",
     "traceback": [
      "\u001b[1;31m---------------------------------------------------------------------------\u001b[0m",
      "\u001b[1;31mArgumentError\u001b[0m                             Traceback (most recent call last)",
      "Cell \u001b[1;32mIn[29], line 15\u001b[0m\n\u001b[0;32m      7\u001b[0m assembly_code \u001b[39m=\u001b[39m \u001b[39mf\u001b[39m\u001b[39m'''\u001b[39m\n\u001b[0;32m      8\u001b[0m \u001b[39mpush eax\u001b[39m\n\u001b[0;32m      9\u001b[0m \u001b[39mlea eax, [r9+10]\u001b[39m\n\u001b[0;32m     10\u001b[0m \u001b[39mmov [TR], eax\u001b[39m\n\u001b[0;32m     11\u001b[0m \u001b[39mpop eax\u001b[39m\n\u001b[0;32m     12\u001b[0m \u001b[39m'''\u001b[39m\n\u001b[0;32m     14\u001b[0m \u001b[39m# 汇编代码\u001b[39;00m\n\u001b[1;32m---> 15\u001b[0m instructions \u001b[39m=\u001b[39m \u001b[39mlist\u001b[39;49m(md\u001b[39m.\u001b[39;49mdisasm(assembly_code, \u001b[39m0x1000\u001b[39;49m))\n\u001b[0;32m     17\u001b[0m \u001b[39m# 获取机器码\u001b[39;00m\n\u001b[0;32m     18\u001b[0m machine_code \u001b[39m=\u001b[39m \u001b[39mb\u001b[39m\u001b[39m'\u001b[39m\u001b[39m'\u001b[39m\u001b[39m.\u001b[39mjoin([\u001b[39mbytes\u001b[39m(i\u001b[39m.\u001b[39mbytes) \u001b[39mfor\u001b[39;00m i \u001b[39min\u001b[39;00m instructions])\n",
      "File \u001b[1;32mc:\\Users\\SS\\Documents\\GitHub\\pokemmo_py_auto\\venv\\Lib\\site-packages\\capstone\\__init__.py:1058\u001b[0m, in \u001b[0;36mCs.disasm\u001b[1;34m(self, code, offset, count)\u001b[0m\n\u001b[0;32m   1056\u001b[0m \u001b[39mif\u001b[39;00m \u001b[39misinstance\u001b[39m(code, \u001b[39mbytearray\u001b[39m):\n\u001b[0;32m   1057\u001b[0m     code \u001b[39m=\u001b[39m ctypes\u001b[39m.\u001b[39mbyref(ctypes\u001b[39m.\u001b[39mc_char\u001b[39m.\u001b[39mfrom_buffer(code))\n\u001b[1;32m-> 1058\u001b[0m res \u001b[39m=\u001b[39m _cs\u001b[39m.\u001b[39;49mcs_disasm(\u001b[39mself\u001b[39;49m\u001b[39m.\u001b[39;49mcsh, code, size, offset, count, ctypes\u001b[39m.\u001b[39;49mbyref(all_insn))\n\u001b[0;32m   1059\u001b[0m \u001b[39mif\u001b[39;00m res \u001b[39m>\u001b[39m \u001b[39m0\u001b[39m:\n\u001b[0;32m   1060\u001b[0m     \u001b[39mtry\u001b[39;00m:\n",
      "\u001b[1;31mArgumentError\u001b[0m: argument 2: TypeError: wrong type"
     ]
    }
   ],
   "source": [
    "from capstone import Cs, CS_ARCH_X86, CS_MODE_32\n",
    "\n",
    "# 创建Capstone对象\n",
    "md = Cs(CS_ARCH_X86, CS_MODE_32)\n",
    "TR = 0x12345678\n",
    "# 汇编指令\n",
    "assembly_code = f'''\n",
    "push eax\n",
    "lea eax, [r9+10]\n",
    "mov [TR], eax\n",
    "pop eax\n",
    "'''\n",
    "\n",
    "# 汇编代码\n",
    "instructions = list(md.disasm(assembly_code, 0x1000))\n",
    "\n",
    "# 获取机器码\n",
    "machine_code = b''.join([bytes(i.bytes) for i in instructions])\n",
    "\n",
    "# 打印机器码\n",
    "print(machine_code)\n"
   ]
  },
  {
   "cell_type": "code",
   "execution_count": null,
   "metadata": {},
   "outputs": [
    {
     "name": "stdout",
     "output_type": "stream",
     "text": [
      "b'P\\x8d\\x80\\x10\\x00\\x00\\x00\\x89\\x88xV4\\x12X'\n"
     ]
    }
   ],
   "source": [
    "from capstone import Cs, CS_ARCH_X86, CS_MODE_32\n",
    "\n",
    "# 创建Capstone对象\n",
    "md = Cs(CS_ARCH_X86, CS_MODE_32)\n",
    "TR = 0x12345678\n",
    "\n",
    "# 汇编指令\n",
    "assembly_code = b'\\x50\\x8d\\x80\\x10\\x00\\x00\\x00\\x89\\x88\\x78\\x56\\x34\\x12\\x58'\n",
    "\n",
    "# 汇编代码\n",
    "instructions = list(md.disasm(assembly_code, 0x1000))\n",
    "\n",
    "# 获取机器码\n",
    "machine_code = b''.join([bytes(i.bytes) for i in instructions])\n",
    "\n",
    "# 打印机器码\n",
    "print(machine_code)\n"
   ]
  },
  {
   "cell_type": "code",
   "execution_count": null,
   "metadata": {},
   "outputs": [
    {
     "name": "stdout",
     "output_type": "stream",
     "text": [
      "Collecting keystone-engine\n",
      "  Downloading keystone_engine-0.9.2-py2.py3-none-win_amd64.whl (1.4 MB)\n",
      "                                              0.0/1.4 MB ? eta -:--:--\n",
      "     --------------------                     0.7/1.4 MB 14.8 MB/s eta 0:00:01\n",
      "     ---------------------------------------- 1.4/1.4 MB 17.4 MB/s eta 0:00:00\n",
      "Installing collected packages: keystone-engine\n",
      "Successfully installed keystone-engine-0.9.2\n",
      "Note: you may need to restart the kernel to use updated packages.\n"
     ]
    }
   ],
   "source": [
    "pip install keystone-engine"
   ]
  },
  {
   "cell_type": "code",
   "execution_count": null,
   "metadata": {},
   "outputs": [
    {
     "ename": "KsError",
     "evalue": "Cannot find a symbol (KS_ERR_ASM_SYMBOL_MISSING)",
     "output_type": "error",
     "traceback": [
      "\u001b[1;31m---------------------------------------------------------------------------\u001b[0m",
      "\u001b[1;31mKsError\u001b[0m                                   Traceback (most recent call last)",
      "Cell \u001b[1;32mIn[37], line 15\u001b[0m\n\u001b[0;32m      7\u001b[0m assembly_code \u001b[39m=\u001b[39m \u001b[39m'''\u001b[39m\n\u001b[0;32m      8\u001b[0m \u001b[39mpush eax\u001b[39m\n\u001b[0;32m      9\u001b[0m \u001b[39mlea eax, [r9+10]\u001b[39m\n\u001b[0;32m     10\u001b[0m \u001b[39mmov [0x12345678], eax\u001b[39m\n\u001b[0;32m     11\u001b[0m \u001b[39mpop eax\u001b[39m\n\u001b[0;32m     12\u001b[0m \u001b[39m'''\u001b[39m\n\u001b[0;32m     14\u001b[0m \u001b[39m# 汇编指令转换为字节码\u001b[39;00m\n\u001b[1;32m---> 15\u001b[0m encoding, _ \u001b[39m=\u001b[39m ks\u001b[39m.\u001b[39;49masm(assembly_code)\n\u001b[0;32m     16\u001b[0m machine_code \u001b[39m=\u001b[39m \u001b[39mbytes\u001b[39m(encoding)\n\u001b[0;32m     18\u001b[0m \u001b[39m# 打印字节码\u001b[39;00m\n",
      "File \u001b[1;32mc:\\Users\\SS\\Documents\\GitHub\\pokemmo_py_auto\\venv\\Lib\\site-packages\\keystone\\keystone.py:213\u001b[0m, in \u001b[0;36mKs.asm\u001b[1;34m(self, string, addr, as_bytes)\u001b[0m\n\u001b[0;32m    211\u001b[0m \u001b[39mif\u001b[39;00m (status \u001b[39m!=\u001b[39m \u001b[39m0\u001b[39m):\n\u001b[0;32m    212\u001b[0m     errno \u001b[39m=\u001b[39m _ks\u001b[39m.\u001b[39mks_errno(\u001b[39mself\u001b[39m\u001b[39m.\u001b[39m_ksh)\n\u001b[1;32m--> 213\u001b[0m     \u001b[39mraise\u001b[39;00m KsError(errno, stat_count\u001b[39m.\u001b[39mvalue)\n\u001b[0;32m    214\u001b[0m \u001b[39melse\u001b[39;00m:\n\u001b[0;32m    215\u001b[0m     \u001b[39mif\u001b[39;00m stat_count\u001b[39m.\u001b[39mvalue \u001b[39m==\u001b[39m \u001b[39m0\u001b[39m:\n",
      "\u001b[1;31mKsError\u001b[0m: Cannot find a symbol (KS_ERR_ASM_SYMBOL_MISSING)"
     ]
    }
   ],
   "source": [
    "from keystone import Ks, KS_ARCH_X86, KS_MODE_32\n",
    "\n",
    "# 创建 Keystone 引擎\n",
    "ks = Ks(KS_ARCH_X86, KS_MODE_32)\n",
    "\n",
    "# 汇编指令\n",
    "assembly_code = '''\n",
    "push eax\n",
    "lea eax, [r9+10]\n",
    "mov [0x12345678], eax\n",
    "pop eax\n",
    "'''\n",
    "\n",
    "# 汇编指令转换为字节码\n",
    "encoding, _ = ks.asm(assembly_code)\n",
    "machine_code = bytes(encoding)\n",
    "\n",
    "# 打印字节码\n",
    "print(machine_code)\n"
   ]
  }
 ],
 "metadata": {
  "kernelspec": {
   "display_name": "venv",
   "language": "python",
   "name": "python3"
  },
  "language_info": {
   "codemirror_mode": {
    "name": "ipython",
    "version": 3
   },
   "file_extension": ".py",
   "mimetype": "text/x-python",
   "name": "python",
   "nbconvert_exporter": "python",
   "pygments_lexer": "ipython3",
   "version": "3.11.3"
  },
  "orig_nbformat": 4
 },
 "nbformat": 4,
 "nbformat_minor": 2
}
