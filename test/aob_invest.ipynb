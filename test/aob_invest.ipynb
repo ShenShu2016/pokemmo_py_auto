{
 "cells": [
  {
   "cell_type": "code",
   "execution_count": 1,
   "metadata": {},
   "outputs": [],
   "source": [
    "# One of your byte sequences\n",
    "byte_sequence = \"44 8B 5A 28 45 8B 53 18 41 0F BE 72 10 45 0F B6 4A 12 44 8B 5A 24 45 0F B6 52 11\"\n",
    "\n",
    "# Transform it into a bytes pattern\n",
    "bytes_pattern = b''.join(b'\\\\x' + bytes(part, 'utf-8') + b'.*' for part in byte_sequence.split())"
   ]
  },
  {
   "cell_type": "code",
   "execution_count": 2,
   "metadata": {},
   "outputs": [
    {
     "data": {
      "text/plain": [
       "b'\\\\x44.*\\\\x8B.*\\\\x5A.*\\\\x28.*\\\\x45.*\\\\x8B.*\\\\x53.*\\\\x18.*\\\\x41.*\\\\x0F.*\\\\xBE.*\\\\x72.*\\\\x10.*\\\\x45.*\\\\x0F.*\\\\xB6.*\\\\x4A.*\\\\x12.*\\\\x44.*\\\\x8B.*\\\\x5A.*\\\\x24.*\\\\x45.*\\\\x0F.*\\\\xB6.*\\\\x52.*\\\\x11.*'"
      ]
     },
     "execution_count": 2,
     "metadata": {},
     "output_type": "execute_result"
    }
   ],
   "source": [
    "bytes_pattern"
   ]
  },
  {
   "cell_type": "code",
   "execution_count": 3,
   "metadata": {},
   "outputs": [],
   "source": [
    "# The pattern with question marks\n",
    "pattern = \"4? 8B ?? 28 45 8b ?? 18 4? 0F BE ?? 10 4? 0F B6 ?? 12 4? 8B ?? 24 45 0F B6 ?? 11\"\n",
    "\n",
    "# Replace ? with . and ?? with ..\n",
    "pattern = pattern.replace(\"??\", \"..\")\n",
    "pattern = pattern.replace(\"?\", \".\")\n",
    "\n",
    "# Replace spaces with .* to match any bytes in between\n",
    "pattern = pattern.replace(\" \", \".*\")\n",
    "\n",
    "# Convert the string pattern into a bytes pattern\n",
    "bytes_pattern = pattern.encode()"
   ]
  },
  {
   "cell_type": "code",
   "execution_count": 4,
   "metadata": {},
   "outputs": [
    {
     "data": {
      "text/plain": [
       "b'4..*8B.*...*28.*45.*8b.*...*18.*4..*0F.*BE.*...*10.*4..*0F.*B6.*...*12.*4..*8B.*...*24.*45.*0F.*B6.*...*11'"
      ]
     },
     "execution_count": 4,
     "metadata": {},
     "output_type": "execute_result"
    }
   ],
   "source": [
    "bytes_pattern"
   ]
  },
  {
   "cell_type": "code",
   "execution_count": 5,
   "metadata": {},
   "outputs": [
    {
     "ename": "ValueError",
     "evalue": "non-hexadecimal number found in fromhex() arg at position 3",
     "output_type": "error",
     "traceback": [
      "\u001b[1;31m---------------------------------------------------------------------------\u001b[0m",
      "\u001b[1;31mValueError\u001b[0m                                Traceback (most recent call last)",
      "Cell \u001b[1;32mIn[5], line 13\u001b[0m\n\u001b[0;32m     10\u001b[0m pattern \u001b[39m=\u001b[39m pattern\u001b[39m.\u001b[39msplit()\n\u001b[0;32m     12\u001b[0m \u001b[39m# Now let's add the \\\\x in front of each byte, and join them into a bytes pattern\u001b[39;00m\n\u001b[1;32m---> 13\u001b[0m bytes_pattern \u001b[39m=\u001b[39m \u001b[39mb\u001b[39;49m\u001b[39m\"\u001b[39;49m\u001b[39m\"\u001b[39;49m\u001b[39m.\u001b[39;49mjoin(\u001b[39mb\u001b[39;49m\u001b[39m\"\u001b[39;49m\u001b[39m\\\\\u001b[39;49;00m\u001b[39mx\u001b[39;49m\u001b[39m\"\u001b[39;49m\u001b[39m+\u001b[39;49m\u001b[39mbytes\u001b[39;49m\u001b[39m.\u001b[39;49mfromhex(byte) \u001b[39mfor\u001b[39;49;00m byte \u001b[39min\u001b[39;49;00m pattern)\n\u001b[0;32m     15\u001b[0m \u001b[39m# Now you can use bytes_pattern in pymem\u001b[39;00m\n\u001b[0;32m     16\u001b[0m \u001b[39mprint\u001b[39m(bytes_pattern)\n",
      "Cell \u001b[1;32mIn[5], line 13\u001b[0m, in \u001b[0;36m<genexpr>\u001b[1;34m(.0)\u001b[0m\n\u001b[0;32m     10\u001b[0m pattern \u001b[39m=\u001b[39m pattern\u001b[39m.\u001b[39msplit()\n\u001b[0;32m     12\u001b[0m \u001b[39m# Now let's add the \\\\x in front of each byte, and join them into a bytes pattern\u001b[39;00m\n\u001b[1;32m---> 13\u001b[0m bytes_pattern \u001b[39m=\u001b[39m \u001b[39mb\u001b[39m\u001b[39m\"\u001b[39m\u001b[39m\"\u001b[39m\u001b[39m.\u001b[39mjoin(\u001b[39mb\u001b[39m\u001b[39m\"\u001b[39m\u001b[39m\\\\\u001b[39;00m\u001b[39mx\u001b[39m\u001b[39m\"\u001b[39m\u001b[39m+\u001b[39m\u001b[39mbytes\u001b[39;49m\u001b[39m.\u001b[39;49mfromhex(byte) \u001b[39mfor\u001b[39;00m byte \u001b[39min\u001b[39;00m pattern)\n\u001b[0;32m     15\u001b[0m \u001b[39m# Now you can use bytes_pattern in pymem\u001b[39;00m\n\u001b[0;32m     16\u001b[0m \u001b[39mprint\u001b[39m(bytes_pattern)\n",
      "\u001b[1;31mValueError\u001b[0m: non-hexadecimal number found in fromhex() arg at position 3"
     ]
    }
   ],
   "source": [
    "# The pattern with question marks\n",
    "pattern = \"4? 8B ?? 28 45 8b ?? 18 4? 0F BE ?? 10 4? 0F B6 ?? 12 4? 8B ?? 24 45 0F B6 ?? 11\"\n",
    "\n",
    "# Replace ? with 00 (we are considering any byte, so 00 is a placeholder)\n",
    "# and replace ?? with 0000\n",
    "pattern = pattern.replace(\"??\", \"0000\")\n",
    "pattern = pattern.replace(\"?\", \"00\")\n",
    "\n",
    "# Split the pattern into separate hexadecimal numbers\n",
    "pattern = pattern.split()\n",
    "\n",
    "# Now let's add the \\\\x in front of each byte, and join them into a bytes pattern\n",
    "bytes_pattern = b\"\".join(b\"\\\\x\"+bytes.fromhex(byte) for byte in pattern)\n",
    "\n",
    "# Now you can use bytes_pattern in pymem\n",
    "print(bytes_pattern)\n"
   ]
  },
  {
   "cell_type": "code",
   "execution_count": 6,
   "metadata": {},
   "outputs": [],
   "source": [
    "str111='4? 8B ?? 28 45 8b ?? 18 4? 0F BE ?? 10 4? 0F B6 ?? 12 4? 8B ?? 24 45 0F B6 ?? 11'"
   ]
  },
  {
   "cell_type": "code",
   "execution_count": 7,
   "metadata": {},
   "outputs": [
    {
     "data": {
      "text/plain": [
       "'4. 8B .. 28 45 8b .. 18 4. 0F BE .. 10 4. 0F B6 .. 12 4. 8B .. 24 45 0F B6 .. 11'"
      ]
     },
     "execution_count": 7,
     "metadata": {},
     "output_type": "execute_result"
    }
   ],
   "source": [
    "str111.replace('?','.')"
   ]
  },
  {
   "cell_type": "code",
   "execution_count": 12,
   "metadata": {},
   "outputs": [
    {
     "name": "stdout",
     "output_type": "stream",
     "text": [
      "b'\\\\x8B\\\\x..\\\\x28\\\\x45\\\\x8b\\\\x..\\\\x18\\\\x4.\\\\x0F\\\\xBE\\\\x..\\\\x10\\\\x4.\\\\x0F\\\\xB6\\\\x..\\\\x12\\\\x4.\\\\x8B\\\\x..\\\\x24\\\\x45\\\\x0F\\\\xB6\\\\x..\\\\x11'\n"
     ]
    }
   ],
   "source": [
    "# Your original pattern string\n",
    "pattern = \"8B ?? 28 45 8b ?? 18 4? 0F BE ?? 10 4? 0F B6 ?? 12 4? 8B ?? 24 45 0F B6 ?? 11\"\n",
    "\n",
    "# Replace ? with a single dot (.) and ?? with two dots (..)\n",
    "pattern = pattern.replace(\"??\", \"..\")\n",
    "pattern = pattern.replace(\"?\", \".\")\n",
    "\n",
    "# Now split the pattern into separate parts\n",
    "pattern = pattern.split()\n",
    "\n",
    "# Prepare the bytes_pattern\n",
    "bytes_pattern = b\"\".join(b\"\\\\x\" + part.encode() for part in pattern)\n",
    "\n",
    "print(bytes_pattern)\n"
   ]
  },
  {
   "cell_type": "code",
   "execution_count": 9,
   "metadata": {},
   "outputs": [],
   "source": [
    "# Join the pattern into a bytes pattern\n",
    "bytes_pattern = b\"\".join(b\"\\\\x\" + byte.encode() for byte in pattern)\n"
   ]
  },
  {
   "cell_type": "code",
   "execution_count": 10,
   "metadata": {},
   "outputs": [
    {
     "data": {
      "text/plain": [
       "b'\\\\x4.\\\\x8B\\\\x..\\\\x28\\\\x45\\\\x8b\\\\x..\\\\x18\\\\x4.\\\\x0F\\\\xBE\\\\x..\\\\x10\\\\x4.\\\\x0F\\\\xB6\\\\x..\\\\x12\\\\x4.\\\\x8B\\\\x..\\\\x24\\\\x45\\\\x0F\\\\xB6\\\\x..\\\\x11'"
      ]
     },
     "execution_count": 10,
     "metadata": {},
     "output_type": "execute_result"
    }
   ],
   "source": [
    "bytes_pattern"
   ]
  }
 ],
 "metadata": {
  "kernelspec": {
   "display_name": "venv",
   "language": "python",
   "name": "python3"
  },
  "language_info": {
   "codemirror_mode": {
    "name": "ipython",
    "version": 3
   },
   "file_extension": ".py",
   "mimetype": "text/x-python",
   "name": "python",
   "nbconvert_exporter": "python",
   "pygments_lexer": "ipython3",
   "version": "3.11.3"
  },
  "orig_nbformat": 4
 },
 "nbformat": 4,
 "nbformat_minor": 2
}
