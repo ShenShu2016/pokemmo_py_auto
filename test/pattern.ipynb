{
 "cells": [
  {
   "cell_type": "code",
   "execution_count": 29,
   "metadata": {},
   "outputs": [
    {
     "name": "stdout",
     "output_type": "stream",
     "text": [
      "0F 85 . . 00 00 4C 8B . 24 . 41 8B . 98 00 00 00 49 . . . . E8 00 00 00 00 . 8B . A0 00 00 00\n"
     ]
    }
   ],
   "source": [
    "def create_wildcard(data):\n",
    "    data_split = [i.split() for i in data]\n",
    "    wildcard = data_split[0]\n",
    "    for i in range(1, len(data_split)):\n",
    "        for j in range(len(data_split[i])):\n",
    "            if data_split[i][j] != wildcard[j]:\n",
    "                wildcard[j] = \".\"\n",
    "    return ' '.join(wildcard)\n",
    "\n",
    "data = [\n",
    "    \"0F 85 81 2A 00 00 4C 8B 5C 24 30 41 8B 8B 98 00 00 00 49 BB 28 CE 36 E8 00 00 00 00 41 8B 9B A0 00 00 00\",\n",
    "    # \"0F 85 4F 2A 00 00 4C 8B 54 24 30 45 8B 92 98 00 00 00 4C 8B 5C 24 30 45 8B 9B AC 00 00 00\",\n",
    "    # \"0F 85 C7 18 00 00 4C 8B 54 24 30 45 8B 92 98 00 00 00 4C 8B 5C 24 30 45 8B 9B AC 00 00 00\",\n",
    "    \"0F 85 E6 1D 00 00 4C 8B 54 24 20 41 8B B2 98 00 00 00 49 BA 80 C4 2F E8 00 00 00 00 45 8B 9A A0 00 00 00\",\n",
    "    \"0F 85 0D 1F 00 00 4C 8B 5C 24 40 41 8B 8B 98 00 00 00 49 BB 80 C4 2F E8 00 00 00 00 41 8B B3 A0 00 00 00\"\n",
    "]\n",
    "\n",
    "print(create_wildcard(data))"
   ]
  },
  {
   "cell_type": "code",
   "execution_count": null,
   "metadata": {},
   "outputs": [],
   "source": [
    "list1=[\"\"\" 0F85 C7180000         \n",
    " 4C 8B 54 24 30        \n",
    " 45 8B 92 98000000     \n",
    " 4C 8B 5C 24 30        \n",
    " 45 8B 9B AC000000     \n",
    "\"\"\",\"\"\" 0F85 E61D0000         \n",
    " 4C 8B 54 24 20        \n",
    " 41 8B B2 98000000     \n",
    " 49 BA 80C42FE800000000 \n",
    " 45 8B 9A A0000000     \n",
    "\"\"\",\"\"\" 0F85 0D1F0000         \n",
    " 4C 8B 5C 24 40        \n",
    " 41 8B 8B 98000000     \n",
    " 49 BB 80C42FE800000000 \n",
    " 41 8B B3 A0000000     \n",
    "\"\"\",\"\"\" 00 4C 8B 54           \n",
    " 24 38                 \n",
    " 45 8B 92 98000000     \n",
    " 4C 8B 5C 24 38        \n",
    " 45 8B 9B AC000000     \n",
    "\"\"\",\"\"\" 0F85 C7180000         \n",
    " 4C 8B 54 24 30        \n",
    " 45 8B 92 98000000     \n",
    " 4C 8B 5C 24 30        \n",
    " 45 8B 9B AC000000     \n",
    "\"\"\"]"
   ]
  },
  {
   "cell_type": "code",
   "execution_count": 45,
   "metadata": {},
   "outputs": [
    {
     "name": "stdout",
     "output_type": "stream",
     "text": [
      "41 8B ? 98 00 00 00 49 ? 80 C4 2F E8 00 00 00 00\n"
     ]
    }
   ],
   "source": [
    "def create_wildcard(data):\n",
    "    # Clean and split data\n",
    "    data_split = [\"\".join(i.split(\"\\n\")).split() for i in data]\n",
    "    # Find the max length of the split data\n",
    "    max_len = max(len(i) for i in data_split)\n",
    "    # Pad shorter data strings with wildcards\n",
    "    for i in range(len(data_split)):\n",
    "        if len(data_split[i]) < max_len:\n",
    "            data_split[i] += [\"??\"] * (max_len - len(data_split[i]))\n",
    "\n",
    "    wildcard = data_split[0]\n",
    "    for i in range(1, len(data_split)):\n",
    "        for j in range(len(data_split[i])):\n",
    "            if data_split[i][j] != wildcard[j]:\n",
    "                wildcard[j] = \"?\"\n",
    "    return ' '.join(wildcard)\n",
    "\n",
    "list_41= [\n",
    "\"\"\"   \n",
    " 41 8B B2 98 00 00 00     \n",
    " 49 BA 80 C4 2F E8 00 00 00 00   \n",
    "\"\"\",\n",
    "\"\"\" \n",
    "    \n",
    " 41 8B 8B 98 00 00 00     \n",
    " 49 BB 80 C4 2F E8 00 00 00 00   \n",
    "\"\"\"\n",
    "]\n",
    "\n",
    "\n",
    "print(create_wildcard(list_41))\n"
   ]
  },
  {
   "cell_type": "code",
   "execution_count": 49,
   "metadata": {},
   "outputs": [
    {
     "name": "stdout",
     "output_type": "stream",
     "text": [
      "45 8B ? 98000000 ? 8B\n"
     ]
    }
   ],
   "source": [
    "list45 = [\n",
    "\"\"\"\n",
    "     \n",
    " 45 8B 92 98000000     \n",
    " 4C 8B  \n",
    "\n",
    "\"\"\"\n",
    ",\"\"\"\n",
    "   \n",
    " 45 8B 92 98000000     \n",
    " 4C 8B   \n",
    " \n",
    "  \n",
    "\"\"\",\n",
    "\"\"\" \n",
    " 45 8B 92 98000000     \n",
    " 4C 8B  \n",
    "\n",
    " \n",
    "\"\"\",\n",
    "\"\"\" \n",
    "45 8B 92 98000000     \n",
    " 4C 8B     \n",
    "\"\"\",\n",
    "\"\"\"\n",
    " 45 8B 92 98000000     \n",
    " 4C 8B    \n",
    "\"\"\",\n",
    "\"\"\"\n",
    " 45 8B 9A 98000000     \n",
    " 45 8B         \n",
    "\n",
    "\n",
    "\"\"\"\n",
    ",\"\"\"\n",
    " 45 8B 92 98000000     \n",
    " 45 8B\n",
    "\"\"\"\n",
    "]\n",
    "print(create_wildcard(list45))"
   ]
  },
  {
   "cell_type": "code",
   "execution_count": 51,
   "metadata": {},
   "outputs": [
    {
     "name": "stdout",
     "output_type": "stream",
     "text": [
      "0F 85 ? ? 00 00 45 8B 9A 98 00 00 00 45 8B ? AC 00 00 00 4D 8B D3\n"
     ]
    }
   ],
   "source": [
    "list_3=[\n",
    "    \n",
    "    \"\"\"          \n",
    " 0F 85 19 13 00 00         \n",
    " 45 8B 9A 98 00 00 00     \n",
    " 45 8B 82 AC 00 00 00     \n",
    " 4D 8B D3              \n",
    "\"\"\",\n",
    "\n",
    "\"\"\"              \n",
    " 0F 85 53 10 00 00         \n",
    " 45 8B 9A 98 00 00 00     \n",
    " 45 8B 8A AC 00 00 00     \n",
    " 4D 8B D3              \n",
    "\"\"\"\n",
    "]\n",
    "print(create_wildcard(list_3))"
   ]
  }
 ],
 "metadata": {
  "kernelspec": {
   "display_name": "venv",
   "language": "python",
   "name": "python3"
  },
  "language_info": {
   "codemirror_mode": {
    "name": "ipython",
    "version": 3
   },
   "file_extension": ".py",
   "mimetype": "text/x-python",
   "name": "python",
   "nbconvert_exporter": "python",
   "pygments_lexer": "ipython3",
   "version": "3.11.3"
  },
  "orig_nbformat": 4
 },
 "nbformat": 4,
 "nbformat_minor": 2
}
